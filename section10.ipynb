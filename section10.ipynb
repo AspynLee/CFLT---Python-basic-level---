{
 "cells": [
  {
   "cell_type": "code",
   "execution_count": null,
   "metadata": {},
   "outputs": [],
   "source": []
  },
  {
   "attachments": {},
   "cell_type": "markdown",
   "metadata": {},
   "source": [
    "# 예외처리\n",
    "어떤 에러가 생겼을 때 그에 대한 처리를 해주는 것을 말함.\n",
    "실책, 실수, 등의 잘못 된 것들.\n",
    "\n",
    "컴퓨터에서는\n",
    "숫자 입력, 문자 입력, 서버 문제, 주소 문제 등등..\n"
   ]
  },
  {
   "cell_type": "code",
   "execution_count": 5,
   "metadata": {},
   "outputs": [
    {
     "name": "stdout",
     "output_type": "stream",
     "text": [
      "나누기 전용 계산기 입니다.\n",
      "에러! 잘못된 값을 입력하였습니다.\n"
     ]
    }
   ],
   "source": [
    "# 나누기 전용 계산기 만들기\n",
    "\n",
    "try:\n",
    "    print(\"나누기 전용 계산기 입니다.\")\n",
    "    nums = []\n",
    "    num1 = int(input(\"첫 번째 숫자를 입력하세요: \"))\n",
    "    num2 = int(input(\"두 번째 숫자를 입력하세요: \"))\n",
    "    print(\"{0} / {1} = {2}\".format(num1, num2, int(num1/num2)))\n",
    "except ValueError:\n",
    "    print(\"에러! 잘못된 값을 입력하였습니다.\")\n",
    "except ZeroDivisionError as err:\n",
    "    print(err)\n",
    "\n"
   ]
  },
  {
   "cell_type": "code",
   "execution_count": 6,
   "metadata": {},
   "outputs": [
    {
     "name": "stdout",
     "output_type": "stream",
     "text": [
      "나누기 전용 계산기 입니다.\n",
      "1 / 2 = 0\n"
     ]
    }
   ],
   "source": [
    "try:\n",
    "    print(\"나누기 전용 계산기 입니다.\")\n",
    "    nums = [] # 리스트 생성\n",
    "    nums.append(int(input(\"첫 번째 숫자를 입력하세요: \"))) #append로 리스트에 추가\n",
    "    nums.append(int(input(\"두 번째 숫자를 입력하세요: \")))\n",
    "    nums.append(int(nums[0] / nums[1]))\n",
    "    print(\"{0} / {1} = {2}\".format(nums[0], nums[1], nums[2]))\n",
    "except ValueError:\n",
    "    print(\"에러! 잘못된 값을 입력하였습니다.\")\n",
    "except ZeroDivisionError as err:\n",
    "    print(err)\n",
    "except"
   ]
  },
  {
   "cell_type": "code",
   "execution_count": 8,
   "metadata": {},
   "outputs": [
    {
     "name": "stdout",
     "output_type": "stream",
     "text": [
      "나누기 전용 계산기 입니다.\n",
      "알 수 없는 오류가 발생하였습니다.\n"
     ]
    }
   ],
   "source": [
    "try:\n",
    "    print(\"나누기 전용 계산기 입니다.\")\n",
    "    nums = [] # 리스트 생성\n",
    "    nums.append(int(input(\"첫 번째 숫자를 입력하세요: \"))) #append로 리스트에 추가\n",
    "    nums.append(int(input(\"두 번째 숫자를 입력하세요: \")))\n",
    "    # nums.append(int(nums[0] / nums[1]))\n",
    "    print(\"{0} / {1} = {2}\".format(nums[0], nums[1], nums[2]))\n",
    "except ValueError:\n",
    "    print(\"에러! 잘못된 값을 입력하였습니다.\")\n",
    "except ZeroDivisionError as err:\n",
    "    print(err)\n",
    "except:\n",
    "    print(\"알 수 없는 오류가 발생하였습니다.\")"
   ]
  },
  {
   "cell_type": "code",
   "execution_count": 9,
   "metadata": {},
   "outputs": [
    {
     "name": "stdout",
     "output_type": "stream",
     "text": [
      "나누기 전용 계산기 입니다.\n",
      "알 수 없는 오류가 발생하였습니다.\n",
      "list index out of range\n"
     ]
    }
   ],
   "source": [
    "try:\n",
    "    print(\"나누기 전용 계산기 입니다.\")\n",
    "    nums = [] # 리스트 생성\n",
    "    nums.append(int(input(\"첫 번째 숫자를 입력하세요: \"))) #append로 리스트에 추가\n",
    "    nums.append(int(input(\"두 번째 숫자를 입력하세요: \")))\n",
    "    # nums.append(int(nums[0] / nums[1]))\n",
    "    print(\"{0} / {1} = {2}\".format(nums[0], nums[1], nums[2]))\n",
    "except ValueError:\n",
    "    print(\"에러! 잘못된 값을 입력하였습니다.\")\n",
    "except ZeroDivisionError as err:\n",
    "    print(err)\n",
    "except Exception as err: #어떤 오류 인지, 오류 메시지 표시 됨.\n",
    "    print(\"알 수 없는 오류가 발생하였습니다.\")\n",
    "    print(err)"
   ]
  },
  {
   "attachments": {},
   "cell_type": "markdown",
   "metadata": {},
   "source": [
    "# 에러 발생 시키기"
   ]
  },
  {
   "cell_type": "code",
   "execution_count": 10,
   "metadata": {},
   "outputs": [
    {
     "name": "stdout",
     "output_type": "stream",
     "text": [
      "한 자리 숫자 나누기 전용 계산기입니다.\n",
      "잘못된 값을 입력하였습니다. 한 자리 숫자만 입력하세요.\n"
     ]
    }
   ],
   "source": [
    "# 한 자리 숫자에 대해서만 나눗셈을 허용하는 계산기\n",
    "\n",
    "try:\n",
    "    print(\"한 자리 숫자 나누기 전용 계산기입니다.\")\n",
    "    num1 = int(input(\"첫 번째 숫자를 입력하세요: \"))\n",
    "    num2 = int(input(\"두 번째 숫자를 입력하세요: \"))\n",
    "    if num1 >= 10 or num2 >= 10: # 조건문을 통과하지 못했을 시, 아래 print구문 실행 되지 않고, Value Error 값 실행 됨.\n",
    "        raise ValueError # raise를 통해서 에러를 만들 수 있음\n",
    "    print(\"{0} / {1} = {2}\".format(num1, num2, int(num1 / num2)))\n",
    "except ValueError:\n",
    "    print(\"잘못된 값을 입력하였습니다. 한 자리 숫자만 입력하세요.\")"
   ]
  },
  {
   "attachments": {},
   "cell_type": "markdown",
   "metadata": {},
   "source": [
    "# 사용자 정의 예의처리\n",
    "우리가 직접 정의해서 에러를 만들 수 있음"
   ]
  },
  {
   "cell_type": "code",
   "execution_count": 12,
   "metadata": {},
   "outputs": [
    {
     "name": "stdout",
     "output_type": "stream",
     "text": [
      "한 자리 숫자 나누기 전용 계산기 입니다.\n",
      "에러가 발생하였습니다. 한 자리 숫자만 입력하세요.\n"
     ]
    }
   ],
   "source": [
    "class BigNumberError(Exception): # Exception 이라는 클래스를 상속 받음\n",
    "    pass\n",
    "\n",
    "try:\n",
    "    print(\"한 자리 숫자 나누기 전용 계산기 입니다.\")\n",
    "    num1 = int(input(\"첫 번째 숫자를 입력하세요: \"))\n",
    "    num2 = int(input(\"두 번째 숫자를 입력하세요: \"))\n",
    "    if num1 >= 10 or num2 >= 10:\n",
    "        raise BigNumberError\n",
    "    print(\"{0} / {1} = {2}\".format(num1, num2, int(num1/num2)))\n",
    "except ValueError:\n",
    "    print(\"잘못된 값을 입력하였습니다. 한 자리 숫자만 입력하세요.\")\n",
    "except BigNumberError:\n",
    "    print(\"에러가 발생하였습니다. 한 자리 숫자만 입력하세요.\")"
   ]
  },
  {
   "cell_type": "code",
   "execution_count": 13,
   "metadata": {},
   "outputs": [
    {
     "name": "stdout",
     "output_type": "stream",
     "text": [
      "한 자리 숫자 나누기 전용 계산기 입니다.\n",
      "에러가 발생하였습니다. 한 자리 숫자만 입력하세요.\n",
      "입력값 : 10, 5\n"
     ]
    }
   ],
   "source": [
    "class BigNumberError(Exception): # Exception 이라는 클래스를 상속 받음\n",
    "    def __init__(self, msg):\n",
    "        self.msg = msg\n",
    "    \n",
    "    def __srt__(self):\n",
    "        return self.msg\n",
    "\n",
    "try:\n",
    "    print(\"한 자리 숫자 나누기 전용 계산기 입니다.\")\n",
    "    num1 = int(input(\"첫 번째 숫자를 입력하세요: \"))\n",
    "    num2 = int(input(\"두 번째 숫자를 입력하세요: \"))\n",
    "    if num1 >= 10 or num2 >= 10:\n",
    "        raise BigNumberError(\"입력값 : {0}, {1}\".format(num1, num2))\n",
    "    print(\"{0} / {1} = {2}\".format(num1, num2, int(num1/num2)))\n",
    "except ValueError:\n",
    "    print(\"잘못된 값을 입력하였습니다. 한 자리 숫자만 입력하세요.\")\n",
    "except BigNumberError as err:\n",
    "    print(\"에러가 발생하였습니다. 한 자리 숫자만 입력하세요.\")\n",
    "    print(err)"
   ]
  },
  {
   "attachments": {},
   "cell_type": "markdown",
   "metadata": {},
   "source": [
    "# finally\n",
    "무조건 실행되는 구문\n",
    "예외처리 구문에서, 정상적으로 수행되건, 오류발생하건 상관 없이 무조건 실행되는 구문"
   ]
  },
  {
   "cell_type": "code",
   "execution_count": 16,
   "metadata": {},
   "outputs": [
    {
     "name": "stdout",
     "output_type": "stream",
     "text": [
      "한 자리 숫자 나누기 전용 계산기 입니다.\n",
      "계산기를 이용해 주셔서 감사합니다.\n"
     ]
    },
    {
     "ename": "ZeroDivisionError",
     "evalue": "division by zero",
     "output_type": "error",
     "traceback": [
      "\u001b[1;31m---------------------------------------------------------------------------\u001b[0m",
      "\u001b[1;31mZeroDivisionError\u001b[0m                         Traceback (most recent call last)",
      "\u001b[1;32m<ipython-input-16-bdd7bc84d4ad>\u001b[0m in \u001b[0;36m<module>\u001b[1;34m\u001b[0m\n\u001b[0;32m     12\u001b[0m     \u001b[1;32mif\u001b[0m \u001b[0mnum1\u001b[0m \u001b[1;33m>=\u001b[0m \u001b[1;36m10\u001b[0m \u001b[1;32mor\u001b[0m \u001b[0mnum2\u001b[0m \u001b[1;33m>=\u001b[0m \u001b[1;36m10\u001b[0m\u001b[1;33m:\u001b[0m\u001b[1;33m\u001b[0m\u001b[1;33m\u001b[0m\u001b[0m\n\u001b[0;32m     13\u001b[0m         \u001b[1;32mraise\u001b[0m \u001b[0mBigNumberError\u001b[0m\u001b[1;33m(\u001b[0m\u001b[1;34m\"입력값 : {0}, {1}\"\u001b[0m\u001b[1;33m.\u001b[0m\u001b[0mformat\u001b[0m\u001b[1;33m(\u001b[0m\u001b[0mnum1\u001b[0m\u001b[1;33m,\u001b[0m \u001b[0mnum2\u001b[0m\u001b[1;33m)\u001b[0m\u001b[1;33m)\u001b[0m\u001b[1;33m\u001b[0m\u001b[1;33m\u001b[0m\u001b[0m\n\u001b[1;32m---> 14\u001b[1;33m     \u001b[0mprint\u001b[0m\u001b[1;33m(\u001b[0m\u001b[1;34m\"{0} / {1} = {2}\"\u001b[0m\u001b[1;33m.\u001b[0m\u001b[0mformat\u001b[0m\u001b[1;33m(\u001b[0m\u001b[0mnum1\u001b[0m\u001b[1;33m,\u001b[0m \u001b[0mnum2\u001b[0m\u001b[1;33m,\u001b[0m \u001b[0mint\u001b[0m\u001b[1;33m(\u001b[0m\u001b[0mnum1\u001b[0m\u001b[1;33m/\u001b[0m\u001b[0mnum2\u001b[0m\u001b[1;33m)\u001b[0m\u001b[1;33m)\u001b[0m\u001b[1;33m)\u001b[0m\u001b[1;33m\u001b[0m\u001b[1;33m\u001b[0m\u001b[0m\n\u001b[0m\u001b[0;32m     15\u001b[0m \u001b[1;32mexcept\u001b[0m \u001b[0mValueError\u001b[0m\u001b[1;33m:\u001b[0m\u001b[1;33m\u001b[0m\u001b[1;33m\u001b[0m\u001b[0m\n\u001b[0;32m     16\u001b[0m     \u001b[0mprint\u001b[0m\u001b[1;33m(\u001b[0m\u001b[1;34m\"잘못된 값을 입력하였습니다. 한 자리 숫자만 입력하세요.\"\u001b[0m\u001b[1;33m)\u001b[0m\u001b[1;33m\u001b[0m\u001b[1;33m\u001b[0m\u001b[0m\n",
      "\u001b[1;31mZeroDivisionError\u001b[0m: division by zero"
     ]
    }
   ],
   "source": [
    "class BigNumberError(Exception): # Exception 이라는 클래스를 상속 받음\n",
    "    def __init__(self, msg):\n",
    "        self.msg = msg\n",
    "    \n",
    "    def __srt__(self):\n",
    "        return self.msg\n",
    "\n",
    "try:\n",
    "    print(\"한 자리 숫자 나누기 전용 계산기 입니다.\")\n",
    "    num1 = int(input(\"첫 번째 숫자를 입력하세요: \"))\n",
    "    num2 = int(input(\"두 번째 숫자를 입력하세요: \"))\n",
    "    if num1 >= 10 or num2 >= 10:\n",
    "        raise BigNumberError(\"입력값 : {0}, {1}\".format(num1, num2))\n",
    "    print(\"{0} / {1} = {2}\".format(num1, num2, int(num1/num2)))\n",
    "except ValueError:\n",
    "    print(\"잘못된 값을 입력하였습니다. 한 자리 숫자만 입력하세요.\")\n",
    "except BigNumberError as err:\n",
    "    print(\"에러가 발생하였습니다. 한 자리 숫자만 입력하세요.\")\n",
    "    print(err)\n",
    "finally:\n",
    "    print(\"계산기를 이용해 주셔서 감사합니다.\")"
   ]
  },
  {
   "cell_type": "code",
   "execution_count": null,
   "metadata": {},
   "outputs": [],
   "source": []
  },
  {
   "attachments": {},
   "cell_type": "markdown",
   "metadata": {},
   "source": [
    "# 예외처리 Quiz\n",
    "\n",
    "Quiz) 동네에 항상 대기 손님이 있는 맛있는 치킨집이 있습니다.\n",
    "대기 손님의 치킨 요리 시간을 줄이고자 자동 주문 시스템을 제작하였습니다.\n",
    "시스템 코드를 확인하고 적절한 예외처리 구문을 넣으시오.\n",
    "\n",
    "조건1: 1보다 작거나 숫자가 아닌 입력값이 들어올 때는 ValueError로 처리\n",
    "출력 메시지: \"잘못된 값을 입력하였습니다.\"\n",
    "\n",
    "조건2: 대기 손님이 주문 할 수 있는 총 치킨량은 10마리로 한정\n",
    "치킨 소진 시 사용자 정의 에러[SoldOutError]를 발생시키고 프로그램을 종료\n",
    "출력 메시지: \"재고가 소진되어 더 이상 주문을 받지 않습니다.\"\n",
    "\n",
    "[코드]\n",
    "chicken = 10\n",
    "waiting = 1 # 홀 안에는 현재 만석, 대기번호 1부터 시작\n",
    "while(True):\n",
    "    print(\"[남은 치킨 : {0}]\".format(chicken))\n",
    "    order = int(input(\"치킨 몇 마리 주문하시겠습니까?\"))\n",
    "    if order > chicken: # 남은 치킨보다 주문량이 많을 때\n",
    "        print(\"재료가 부족합니다.\")\n",
    "    else:\n",
    "        print(\"[대기번호 {0}] {1} 마리 주문이 완료되었습니다.\".format(waiting, order))\n",
    "        # waiting = waiting + 1\n",
    "        # chicken = chicken - order\n",
    "        waiting += 1\n",
    "        chicken -= order\n"
   ]
  },
  {
   "cell_type": "code",
   "execution_count": 19,
   "metadata": {},
   "outputs": [
    {
     "ename": "SyntaxError",
     "evalue": "invalid syntax (<ipython-input-19-9058b1b7ae19>, line 9)",
     "output_type": "error",
     "traceback": [
      "\u001b[1;36m  File \u001b[1;32m\"<ipython-input-19-9058b1b7ae19>\"\u001b[1;36m, line \u001b[1;32m9\u001b[0m\n\u001b[1;33m    except ValueError:\u001b[0m\n\u001b[1;37m    ^\u001b[0m\n\u001b[1;31mSyntaxError\u001b[0m\u001b[1;31m:\u001b[0m invalid syntax\n"
     ]
    }
   ],
   "source": [
    "try:\n",
    "    \n",
    "    chicken = 10\n",
    "    waiting = 1 # 홀 안에는 현재 만석, 대기번호 1부터 시작\n",
    "    while(True):\n",
    "        print(\"[남은 치킨 : {0}]\".format(chicken))\n",
    "        order = int(input(\"치킨 몇 마리 주문하시겠습니까?\"))\n",
    "        if order < 1 or order == TypeError or order > 10:\n",
    "            except ValueError:\n",
    "            print(\"잘못된 값을 입력하였습니다.\")\n",
    "\n",
    "        if order > chicken: # 남은 치킨보다 주문량이 많을 때\n",
    "            print(\"재료가 부족합니다.\")\n",
    "        else:\n",
    "            print(\"[대기번호 {0}] {1} 마리 주문이 완료되었습니다.\".format(waiting, order))\n",
    "            # waiting = waiting + 1\n",
    "            # chicken = chicken - order\n",
    "            waiting += 1\n",
    "            chicken -= order\n",
    "        except SoldOutError:\n",
    "        if chicken < order:\n",
    "            print(\"재고가 소진되어 더 이상 주문을 받지 않습니다.\")\n",
    "        finally:\n",
    "            print(\"이용해 주셔서 감사합니다.\")\n",
    "    \n",
    "  \n"
   ]
  },
  {
   "cell_type": "code",
   "execution_count": null,
   "metadata": {},
   "outputs": [],
   "source": [
    "try:\n",
    "    \n",
    "    chicken = 10\n",
    "    waiting = 1 # 홀 안에는 현재 만석, 대기번호 1부터 시작\n",
    "    while(True):\n",
    "        print(\"[남은 치킨 : {0}]\".format(chicken))\n",
    "        order = int(input(\"치킨 몇 마리 주문하시겠습니까?\"))\n",
    "        if order < 1 or order == TypeError or order > 10:\n",
    "            except ValueError:\n",
    "            print(\"잘못된 값을 입력하였습니다.\")\n",
    "\n",
    "        if order > chicken: # 남은 치킨보다 주문량이 많을 때\n",
    "            print(\"재료가 부족합니다.\")\n",
    "        else:\n",
    "            print(\"[대기번호 {0}] {1} 마리 주문이 완료되었습니다.\".format(waiting, order))\n",
    "            # waiting = waiting + 1\n",
    "            # chicken = chicken - order\n",
    "            waiting += 1\n",
    "            chicken -= order\n",
    "        except SoldOutError:\n",
    "        if chicken == 0:\n",
    "            print(\"재고가 소진되어 더 이상 주문을 받지 않습니다.\")\n",
    "        finally:\n",
    "            print(\"이용해 주셔서 감사합니다.\")\n",
    "    \n",
    "  \n",
    "\n"
   ]
  },
  {
   "cell_type": "code",
   "execution_count": 23,
   "metadata": {},
   "outputs": [
    {
     "name": "stdout",
     "output_type": "stream",
     "text": [
      "[남은 치킨 : 10]\n",
      "[대기번호 1] 1 마리 주문이 완료되었습니다.\n",
      "[남은 치킨 : 9]\n",
      "[대기번호 2] 2 마리 주문이 완료되었습니다.\n",
      "[남은 치킨 : 7]\n",
      "[대기번호 3] 3 마리 주문이 완료되었습니다.\n",
      "[남은 치킨 : 4]\n",
      "[대기번호 4] 1 마리 주문이 완료되었습니다.\n",
      "[남은 치킨 : 3]\n",
      "[대기번호 5] 2 마리 주문이 완료되었습니다.\n",
      "[남은 치킨 : 1]\n",
      "[대기번호 6] 1 마리 주문이 완료되었습니다.\n",
      "재고가 소진되어 더 이상 주문을 받지 않습니다.\n"
     ]
    }
   ],
   "source": [
    "class SoldOutError(Exception): # Exception 여기서 상속 왜 받음? ㅠㅠ\n",
    "    pass\n",
    "\n",
    "chicken = 10\n",
    "waiting = 1 # 홀 안에는 현재 만석, 대기번호 1부터 시작\n",
    "while(True):\n",
    "    try:\n",
    "        print(\"[남은 치킨 : {0}]\".format(chicken))\n",
    "        order = int(input(\"치킨 몇 마리 주문하시겠습니까?\"))\n",
    "        if order > chicken: # 남은 치킨보다 주문량이 많을 때\n",
    "            print(\"재료가 부족합니다.\")\n",
    "        elif order <= 0:\n",
    "            raise ValueError    \n",
    "        else:\n",
    "            print(\"[대기번호 {0}] {1} 마리 주문이 완료되었습니다.\".format(waiting, order))\n",
    "            # waiting = waiting + 1\n",
    "            # chicken = chicken - order\n",
    "            waiting += 1\n",
    "            chicken -= order\n",
    "\n",
    "        if chicken == 0:\n",
    "            raise SoldOutError\n",
    "\n",
    "    except ValueError:\n",
    "        print(\"잘못된 값을 입력하였습니다.\")\n",
    "    except SoldOutError:\n",
    "        print(\"재고가 소진되어 더 이상 주문을 받지 않습니다.\")\n",
    "        break\n",
    "    \n",
    "    \n",
    "  \n"
   ]
  },
  {
   "attachments": {},
   "cell_type": "markdown",
   "metadata": {},
   "source": []
  }
 ],
 "metadata": {
  "kernelspec": {
   "display_name": "Python 3",
   "language": "python",
   "name": "python3"
  },
  "language_info": {
   "codemirror_mode": {
    "name": "ipython",
    "version": 3
   },
   "file_extension": ".py",
   "mimetype": "text/x-python",
   "name": "python",
   "nbconvert_exporter": "python",
   "pygments_lexer": "ipython3",
   "version": "3.9.5"
  },
  "orig_nbformat": 4
 },
 "nbformat": 4,
 "nbformat_minor": 2
}

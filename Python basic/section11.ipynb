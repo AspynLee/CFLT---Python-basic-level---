{
 "cells": [
  {
   "attachments": {},
   "cell_type": "markdown",
   "metadata": {},
   "source": [
    "# 모듈\n",
    "필요한 것들 끼리 부품처럼 잘 만들어진 파일\n",
    "\n",
    "에) 자동차\n",
    "타이어 마모 또는 펑크 나면, 타이어만 교체 하면 됨.\n",
    "\n",
    "소프트웨어도 타이어나 범퍼처럼 부품만 교체하거나 추가하면 유지보수가 쉽고, \n",
    "코드의 재 사용이 수월해지는 장점이 있다.\n",
    "\n",
    "파이썬에서는 함수 정의나, 클래스 등의 파이썬 문장들을 담고 있는 파일을 모듈이라고 한다.\n",
    "확장자는 .py 이다.\n",
    "\n",
    "모듈은 내가 그 모듈을 쓰려는 파일과 같은 경로에 있거나, \n",
    "또는 파이썬 라이브러리가 모여있는 폴더에 있어야 사용 가능 하다.\n",
    "\n",
    "\n",
    "\n"
   ]
  },
  {
   "cell_type": "code",
   "execution_count": 1,
   "metadata": {},
   "outputs": [
    {
     "name": "stdout",
     "output_type": "stream",
     "text": [
      "3명 가격은 30000원 입니다.\n",
      "4명 조조 할인 가격은 24000원 입니다.\n",
      "5명 군인 할인 가격은 20000원 입니다.\n"
     ]
    }
   ],
   "source": [
    "import theater_module\n",
    "theater_module.price(3) #3명이서 영화 보러 갔을 때 가격\n",
    "theater_module.price_morning(4) # 4명이서 조조 할인 영어 보러 갔을 때\n",
    "theater_module.price_soldier(5) # 5명의 군인이 영화 보러 갔을 때\n"
   ]
  },
  {
   "cell_type": "code",
   "execution_count": 2,
   "metadata": {},
   "outputs": [
    {
     "name": "stdout",
     "output_type": "stream",
     "text": [
      "3명 가격은 30000원 입니다.\n",
      "4명 조조 할인 가격은 24000원 입니다.\n",
      "5명 군인 할인 가격은 20000원 입니다.\n"
     ]
    }
   ],
   "source": [
    "import theater_module as mv # 별명을 붙여서 줄여서 사용. as뒤에 붙이면, 이 걸로 호출 할 수 있음\n",
    "mv.price(3)\n",
    "mv.price_morning(4)\n",
    "mv.price_soldier(5)"
   ]
  },
  {
   "cell_type": "code",
   "execution_count": 3,
   "metadata": {},
   "outputs": [
    {
     "name": "stdout",
     "output_type": "stream",
     "text": [
      "3명 가격은 30000원 입니다.\n",
      "4명 조조 할인 가격은 24000원 입니다.\n",
      "5명 군인 할인 가격은 20000원 입니다.\n"
     ]
    }
   ],
   "source": [
    "from theater_module import * # theater_module에서 모든 것을 다 사용하겠다. 라는 의미\n",
    "# from random import * \n",
    "\n",
    "price(3)\n",
    "price_morning(4)\n",
    "price_soldier(5)\n"
   ]
  },
  {
   "cell_type": "code",
   "execution_count": 5,
   "metadata": {},
   "outputs": [
    {
     "name": "stdout",
     "output_type": "stream",
     "text": [
      "5명 가격은 50000원 입니다.\n",
      "6명 조조 할인 가격은 36000원 입니다.\n",
      "7명 군인 할인 가격은 28000원 입니다.\n"
     ]
    }
   ],
   "source": [
    "from theater_module import price, price_morning # * 대신 내가 필요한 함수만 호출 할 수 있음\n",
    "price(5)\n",
    "price_morning(6)\n",
    "price_soldier(7)\n"
   ]
  },
  {
   "cell_type": "code",
   "execution_count": 6,
   "metadata": {},
   "outputs": [
    {
     "name": "stdout",
     "output_type": "stream",
     "text": [
      "5명 군인 할인 가격은 20000원 입니다.\n"
     ]
    }
   ],
   "source": [
    "from theater_module import price_soldier as price\n",
    "price(5)"
   ]
  },
  {
   "attachments": {},
   "cell_type": "markdown",
   "metadata": {},
   "source": [
    "# 패키지\n",
    "모듈들을 모아놓은 집합\n",
    "하나의 디렉토리에 여러 모듈 파일들을 갖다 놓은 것을 패키지로 이해하면 됨.\n",
    "import 함수 뒤에는 모듈이나 패키지만 올 수 있다. class나 함수는 import를 직접 바로 할 수 없다.\n",
    "from 구문에서는 사용 가능 하다.\n",
    "\n",
    "\n",
    "AttributeError: module 'travel.thailand' has no attribute 'ThailandPackage'\n",
    "호출한 모듈명과 파일명이 같으면 안된다는 것!\n",
    "즉, turtle 이라는 모듈을 호출하고 있는데 파일명이 turtle.py 라서\n",
    "conflict 가 발생하는 것입니다. \n",
    "[출처] [Python 파이썬 오류] AttributeError 해결방법 module 'turtle' has no attribute 'forward'|작성자 스타트코딩"
   ]
  },
  {
   "cell_type": "code",
   "execution_count": 39,
   "metadata": {},
   "outputs": [
    {
     "name": "stdout",
     "output_type": "stream",
     "text": [
      "[베트남 패키지 3박 5일] 다낭 효도 여행 60만원\n"
     ]
    }
   ],
   "source": [
    "# import travel.thailand\n",
    "# # import travel.thailand.Thailandpackage\n",
    "# trip_to = travel.thailand.ThailandPackage()\n",
    "# trip_to.detail()\n",
    "\n",
    "# from travel.thailand import ThailandPackage\n",
    "# trip_to = ThailandPackage()\n",
    "# trip_to.detail()\n",
    "\n",
    "# from travel.thailand import ThailandPackage\n",
    "# trip_to = ThailandPackage()\n",
    "# trip_to.detail()\n",
    "\n",
    "from travel import vietnam\n",
    "trip_to = vietnam.VietnamPackage()\n",
    "trip_to.detail()\n"
   ]
  },
  {
   "attachments": {},
   "cell_type": "markdown",
   "metadata": {},
   "source": [
    "__all__\n"
   ]
  },
  {
   "cell_type": "code",
   "execution_count": null,
   "metadata": {},
   "outputs": [],
   "source": []
  },
  {
   "cell_type": "code",
   "execution_count": 35,
   "metadata": {},
   "outputs": [
    {
     "name": "stdout",
     "output_type": "stream",
     "text": [
      "[베트남 패키지 3박 5일] 다낭 효도 여행 60만원\n"
     ]
    }
   ],
   "source": [
    "from travel import *\n",
    "trip_to = vietnam.VietnamPackage()\n",
    "trip_to.detail()"
   ]
  },
  {
   "cell_type": "code",
   "execution_count": 45,
   "metadata": {},
   "outputs": [
    {
     "ename": "AttributeError",
     "evalue": "module 'travel.thailand' has no attribute 'ThailandPackage'",
     "output_type": "error",
     "traceback": [
      "\u001b[1;31m---------------------------------------------------------------------------\u001b[0m",
      "\u001b[1;31mAttributeError\u001b[0m                            Traceback (most recent call last)",
      "\u001b[1;32m<ipython-input-45-60cae8af7e93>\u001b[0m in \u001b[0;36m<module>\u001b[1;34m\u001b[0m\n\u001b[0;32m      1\u001b[0m \u001b[1;32mfrom\u001b[0m \u001b[0mtravel\u001b[0m \u001b[1;32mimport\u001b[0m \u001b[1;33m*\u001b[0m\u001b[1;33m\u001b[0m\u001b[1;33m\u001b[0m\u001b[0m\n\u001b[1;32m----> 2\u001b[1;33m \u001b[0mtrip_to\u001b[0m \u001b[1;33m=\u001b[0m \u001b[0mthailand\u001b[0m\u001b[1;33m.\u001b[0m\u001b[0mThailandPackage\u001b[0m\u001b[1;33m(\u001b[0m\u001b[1;33m)\u001b[0m\u001b[1;33m\u001b[0m\u001b[1;33m\u001b[0m\u001b[0m\n\u001b[0m\u001b[0;32m      3\u001b[0m \u001b[0mtrip_to\u001b[0m\u001b[1;33m.\u001b[0m\u001b[0mdetail\u001b[0m\u001b[1;33m(\u001b[0m\u001b[1;33m)\u001b[0m\u001b[1;33m\u001b[0m\u001b[1;33m\u001b[0m\u001b[0m\n",
      "\u001b[1;31mAttributeError\u001b[0m: module 'travel.thailand' has no attribute 'ThailandPackage'"
     ]
    }
   ],
   "source": [
    "from travel import *\n",
    "trip_to = thailand.ThailandPackage()\n",
    "trip_to.detail()"
   ]
  },
  {
   "cell_type": "code",
   "execution_count": null,
   "metadata": {},
   "outputs": [],
   "source": []
  },
  {
   "cell_type": "code",
   "execution_count": null,
   "metadata": {},
   "outputs": [],
   "source": []
  },
  {
   "attachments": {},
   "cell_type": "markdown",
   "metadata": {},
   "source": [
    "# 패키지, 모듈 위치"
   ]
  },
  {
   "cell_type": "code",
   "execution_count": 47,
   "metadata": {},
   "outputs": [
    {
     "name": "stdout",
     "output_type": "stream",
     "text": [
      "c:\\Python39\\lib\\random.py\n",
      "c:\\Users\\ymlee\\2023\\Python basic\\travel\\thailand.py\n"
     ]
    }
   ],
   "source": [
    "import inspect\n",
    "import random\n",
    "print(inspect.getfile(random))\n",
    "print(inspect.getfile(thailand))"
   ]
  },
  {
   "cell_type": "code",
   "execution_count": 51,
   "metadata": {},
   "outputs": [
    {
     "ename": "AttributeError",
     "evalue": "module 'travel.thailand' has no attribute 'ThailandPackage'",
     "output_type": "error",
     "traceback": [
      "\u001b[1;31m---------------------------------------------------------------------------\u001b[0m",
      "\u001b[1;31mAttributeError\u001b[0m                            Traceback (most recent call last)",
      "\u001b[1;32m<ipython-input-51-1cd723284749>\u001b[0m in \u001b[0;36m<module>\u001b[1;34m\u001b[0m\n\u001b[0;32m      1\u001b[0m \u001b[1;32mfrom\u001b[0m \u001b[0mtravel\u001b[0m \u001b[1;32mimport\u001b[0m \u001b[1;33m*\u001b[0m\u001b[1;33m\u001b[0m\u001b[1;33m\u001b[0m\u001b[0m\n\u001b[1;32m----> 2\u001b[1;33m \u001b[0mtrip_to\u001b[0m \u001b[1;33m=\u001b[0m \u001b[0mthailand\u001b[0m\u001b[1;33m.\u001b[0m\u001b[0mThailandPackage\u001b[0m\u001b[1;33m(\u001b[0m\u001b[1;33m)\u001b[0m\u001b[1;33m\u001b[0m\u001b[1;33m\u001b[0m\u001b[0m\n\u001b[0m\u001b[0;32m      3\u001b[0m \u001b[0mtrip_to\u001b[0m\u001b[1;33m.\u001b[0m\u001b[0mdetail\u001b[0m\u001b[1;33m(\u001b[0m\u001b[1;33m)\u001b[0m\u001b[1;33m\u001b[0m\u001b[1;33m\u001b[0m\u001b[0m\n\u001b[0;32m      4\u001b[0m \u001b[1;33m\u001b[0m\u001b[0m\n\u001b[0;32m      5\u001b[0m \u001b[1;32mimport\u001b[0m \u001b[0minspect\u001b[0m\u001b[1;33m\u001b[0m\u001b[1;33m\u001b[0m\u001b[0m\n",
      "\u001b[1;31mAttributeError\u001b[0m: module 'travel.thailand' has no attribute 'ThailandPackage'"
     ]
    }
   ],
   "source": [
    "from travel import *\n",
    "trip_to = thailand.ThailandPackage()\n",
    "trip_to.detail()\n",
    "\n",
    "import inspect\n",
    "import random\n",
    "print(inspect.getfile(random))\n",
    "print(inspect.getfile(thailand))"
   ]
  },
  {
   "cell_type": "code",
   "execution_count": null,
   "metadata": {},
   "outputs": [],
   "source": []
  },
  {
   "attachments": {},
   "cell_type": "markdown",
   "metadata": {},
   "source": [
    "# pip install\n",
    "# pypi\n",
    "# BeautifulSoup"
   ]
  },
  {
   "cell_type": "code",
   "execution_count": null,
   "metadata": {},
   "outputs": [],
   "source": []
  },
  {
   "attachments": {},
   "cell_type": "markdown",
   "metadata": {},
   "source": [
    "pip로 패키지 설치하기, 설치하는 방법\n",
    "수 많은 패키지가 존재 함, 파이썬은 새로운 코드를 모두 다 작성 하는 것 보다는, \n",
    "이미 잘 만들어진 패키지를 필요한 곳에 가져가 쓰는 것도 굉장히 중요한 부분이다."
   ]
  },
  {
   "cell_type": "code",
   "execution_count": null,
   "metadata": {},
   "outputs": [],
   "source": [
    "# 난수 생성하기\n"
   ]
  },
  {
   "cell_type": "code",
   "execution_count": 54,
   "metadata": {},
   "outputs": [
    {
     "ename": "ModuleNotFoundError",
     "evalue": "No module named 'bs4'",
     "output_type": "error",
     "traceback": [
      "\u001b[1;31m---------------------------------------------------------------------------\u001b[0m",
      "\u001b[1;31mModuleNotFoundError\u001b[0m                       Traceback (most recent call last)",
      "\u001b[1;32m<ipython-input-54-2aa991972ffa>\u001b[0m in \u001b[0;36m<module>\u001b[1;34m\u001b[0m\n\u001b[1;32m----> 1\u001b[1;33m \u001b[1;32mfrom\u001b[0m \u001b[0mbs4\u001b[0m \u001b[1;32mimport\u001b[0m \u001b[0mBeautifulSoup\u001b[0m\u001b[1;33m\u001b[0m\u001b[1;33m\u001b[0m\u001b[0m\n\u001b[0m\u001b[0;32m      2\u001b[0m \u001b[0msoup\u001b[0m \u001b[1;33m=\u001b[0m \u001b[0mBeautifulSoup\u001b[0m\u001b[1;33m(\u001b[0m\u001b[1;34m\"<p>Some<b>bad<i>HTML\"\u001b[0m\u001b[1;33m)\u001b[0m\u001b[1;33m\u001b[0m\u001b[1;33m\u001b[0m\u001b[0m\n\u001b[0;32m      3\u001b[0m \u001b[0mprint\u001b[0m\u001b[1;33m(\u001b[0m\u001b[0msoup\u001b[0m\u001b[1;33m.\u001b[0m\u001b[0mprettify\u001b[0m\u001b[1;33m(\u001b[0m\u001b[1;33m)\u001b[0m\u001b[1;33m)\u001b[0m\u001b[1;33m\u001b[0m\u001b[1;33m\u001b[0m\u001b[0m\n",
      "\u001b[1;31mModuleNotFoundError\u001b[0m: No module named 'bs4'"
     ]
    }
   ],
   "source": [
    "from bs4 import BeautifulSoup\n",
    "soup = BeautifulSoup(\"<p>Some<b>bad<i>HTML\")\n",
    "print(soup.prettify())"
   ]
  },
  {
   "cell_type": "code",
   "execution_count": 63,
   "metadata": {},
   "outputs": [
    {
     "ename": "ModuleNotFoundError",
     "evalue": "No module named 'bs4'",
     "output_type": "error",
     "traceback": [
      "\u001b[1;31m---------------------------------------------------------------------------\u001b[0m",
      "\u001b[1;31mModuleNotFoundError\u001b[0m                       Traceback (most recent call last)",
      "\u001b[1;32m<ipython-input-63-2aa991972ffa>\u001b[0m in \u001b[0;36m<module>\u001b[1;34m\u001b[0m\n\u001b[1;32m----> 1\u001b[1;33m \u001b[1;32mfrom\u001b[0m \u001b[0mbs4\u001b[0m \u001b[1;32mimport\u001b[0m \u001b[0mBeautifulSoup\u001b[0m\u001b[1;33m\u001b[0m\u001b[1;33m\u001b[0m\u001b[0m\n\u001b[0m\u001b[0;32m      2\u001b[0m \u001b[0msoup\u001b[0m \u001b[1;33m=\u001b[0m \u001b[0mBeautifulSoup\u001b[0m\u001b[1;33m(\u001b[0m\u001b[1;34m\"<p>Some<b>bad<i>HTML\"\u001b[0m\u001b[1;33m)\u001b[0m\u001b[1;33m\u001b[0m\u001b[1;33m\u001b[0m\u001b[0m\n\u001b[0;32m      3\u001b[0m \u001b[0mprint\u001b[0m\u001b[1;33m(\u001b[0m\u001b[0msoup\u001b[0m\u001b[1;33m.\u001b[0m\u001b[0mprettify\u001b[0m\u001b[1;33m(\u001b[0m\u001b[1;33m)\u001b[0m\u001b[1;33m)\u001b[0m\u001b[1;33m\u001b[0m\u001b[1;33m\u001b[0m\u001b[0m\n",
      "\u001b[1;31mModuleNotFoundError\u001b[0m: No module named 'bs4'"
     ]
    }
   ],
   "source": [
    "from bs4 import BeautifulSoup\n",
    "soup = BeautifulSoup(\"<p>Some<b>bad<i>HTML\")\n",
    "print(soup.prettify())"
   ]
  },
  {
   "cell_type": "code",
   "execution_count": null,
   "metadata": {},
   "outputs": [],
   "source": []
  },
  {
   "attachments": {},
   "cell_type": "markdown",
   "metadata": {},
   "source": [
    "# 내장 함수\n",
    "# List of python builtins"
   ]
  },
  {
   "attachments": {},
   "cell_type": "markdown",
   "metadata": {},
   "source": []
  },
  {
   "attachments": {},
   "cell_type": "markdown",
   "metadata": {},
   "source": []
  },
  {
   "cell_type": "code",
   "execution_count": null,
   "metadata": {},
   "outputs": [],
   "source": []
  },
  {
   "cell_type": "code",
   "execution_count": 66,
   "metadata": {},
   "outputs": [
    {
     "name": "stdout",
     "output_type": "stream",
     "text": [
      "영어은 아주 좋은 언어 입니다!\n"
     ]
    }
   ],
   "source": [
    "# input: 사용자 입력을 받는 함수\n",
    "language= input(\"무슨 언어를 좋아하세요?\")\n",
    "print(\"{0}은 아주 좋은 언어 입니다!\".format(language))\n"
   ]
  },
  {
   "cell_type": "code",
   "execution_count": 70,
   "metadata": {},
   "outputs": [
    {
     "name": "stdout",
     "output_type": "stream",
     "text": [
      "['BPF', 'LOG4', 'NV_MAGICCONST', 'RECIP_BPF', 'Random', 'SG_MAGICCONST', 'SystemRandom', 'TWOPI', '_Sequence', '_Set', '__all__', '__builtins__', '__cached__', '__doc__', '__file__', '__loader__', '__name__', '__package__', '__spec__', '_accumulate', '_acos', '_bisect', '_ceil', '_cos', '_e', '_exp', '_floor', '_inst', '_log', '_os', '_pi', '_random', '_repeat', '_sha512', '_sin', '_sqrt', '_test', '_test_generator', '_urandom', '_warn', 'betavariate', 'choice', 'choices', 'expovariate', 'gammavariate', 'gauss', 'getrandbits', 'getstate', 'lognormvariate', 'normalvariate', 'paretovariate', 'randbytes', 'randint', 'random', 'randrange', 'sample', 'seed', 'setstate', 'shuffle', 'triangular', 'uniform', 'vonmisesvariate', 'weibullvariate']\n"
     ]
    }
   ],
   "source": [
    "# # dir: 어떤 객체를 넘겨줬을 때 그 객체가 어떤 변수와 함수를 가지고 있는지 표시\n",
    "# print(dir())\n",
    "import random # 외장 함수\n",
    "# print(dir())\n",
    "# import pickle\n",
    "# print(dir())\n",
    "\n",
    "print(dir(random))"
   ]
  },
  {
   "cell_type": "code",
   "execution_count": 73,
   "metadata": {},
   "outputs": [
    {
     "name": "stdout",
     "output_type": "stream",
     "text": [
      "['__add__', '__class__', '__class_getitem__', '__contains__', '__delattr__', '__delitem__', '__dir__', '__doc__', '__eq__', '__format__', '__ge__', '__getattribute__', '__getitem__', '__gt__', '__hash__', '__iadd__', '__imul__', '__init__', '__init_subclass__', '__iter__', '__le__', '__len__', '__lt__', '__mul__', '__ne__', '__new__', '__reduce__', '__reduce_ex__', '__repr__', '__reversed__', '__rmul__', '__setattr__', '__setitem__', '__sizeof__', '__str__', '__subclasshook__', 'append', 'clear', 'copy', 'count', 'extend', 'index', 'insert', 'pop', 'remove', 'reverse', 'sort']\n",
      "['__add__', '__class__', '__contains__', '__delattr__', '__dir__', '__doc__', '__eq__', '__format__', '__ge__', '__getattribute__', '__getitem__', '__getnewargs__', '__gt__', '__hash__', '__init__', '__init_subclass__', '__iter__', '__le__', '__len__', '__lt__', '__mod__', '__mul__', '__ne__', '__new__', '__reduce__', '__reduce_ex__', '__repr__', '__rmod__', '__rmul__', '__setattr__', '__sizeof__', '__str__', '__subclasshook__', 'capitalize', 'casefold', 'center', 'count', 'encode', 'endswith', 'expandtabs', 'find', 'format', 'format_map', 'index', 'isalnum', 'isalpha', 'isascii', 'isdecimal', 'isdigit', 'isidentifier', 'islower', 'isnumeric', 'isprintable', 'isspace', 'istitle', 'isupper', 'join', 'ljust', 'lower', 'lstrip', 'maketrans', 'partition', 'removeprefix', 'removesuffix', 'replace', 'rfind', 'rindex', 'rjust', 'rpartition', 'rsplit', 'rstrip', 'split', 'splitlines', 'startswith', 'strip', 'swapcase', 'title', 'translate', 'upper', 'zfill']\n"
     ]
    }
   ],
   "source": [
    "lst = [1, 2, 3]\n",
    "print(dir(lst))\n",
    "\n",
    "name = \"Jim\"\n",
    "print(dir(name))"
   ]
  },
  {
   "attachments": {},
   "cell_type": "markdown",
   "metadata": {},
   "source": [
    "# 외장 함수\n",
    "# list of python modules"
   ]
  },
  {
   "attachments": {},
   "cell_type": "markdown",
   "metadata": {},
   "source": [
    "# glob: 경로 내의 폴더 / 파일 목록 조회 (윈도우 dir)\n",
    "import glob\n",
    "print(glob.glob(\"*.py\")) # 확장자가 py인 모든 파일"
   ]
  },
  {
   "cell_type": "code",
   "execution_count": 75,
   "metadata": {},
   "outputs": [
    {
     "name": "stdout",
     "output_type": "stream",
     "text": [
      "['practice_class.py', 'theater_module.py']\n"
     ]
    }
   ],
   "source": [
    "import glob\n",
    "print(glob.glob(\"*.py\")) # 확장자가 py인 모든 파일"
   ]
  },
  {
   "cell_type": "code",
   "execution_count": 81,
   "metadata": {},
   "outputs": [
    {
     "name": "stdout",
     "output_type": "stream",
     "text": [
      "['Dojang_unit19.ipynb', 'linting.PNG', 'practice_class.ipynb', 'practice_class.py', 'profile.pickle', 'sample_dir', 'score.txt', 'section10.ipynb', 'section11.ipynb', 'section7.ipynb', 'section8.ipynb', 'section9.ipynb', 'starcraft_9.ipynb', 'study.txt', 'theater_module.py', 'travel', 'unit9.ipynb', '__pycache__']\n"
     ]
    }
   ],
   "source": [
    "# os: 운영체제에서 제공하는 기본 기능\n",
    "import os\n",
    "print(os.getcwd()) #현재 디렉토리\n",
    "\n",
    "folder = \"sample_dir\"\n",
    "\n",
    "if os.path.exists(folder):\n",
    "    print(\"이미 존재하는 폴더입니다.\")\n",
    "    os.rmdir(folder)\n",
    "    print(folder, \"폴더를 삭제하였습니다.\")\n",
    "else:\n",
    "    os.makedirs(folder)\n",
    "    print(folder, \"폴더를 생성하였습니다.\")\n",
    "\n",
    "print(os.listdir())"
   ]
  },
  {
   "cell_type": "code",
   "execution_count": 83,
   "metadata": {},
   "outputs": [
    {
     "name": "stdout",
     "output_type": "stream",
     "text": [
      "time.struct_time(tm_year=2023, tm_mon=8, tm_mday=18, tm_hour=2, tm_min=30, tm_sec=56, tm_wday=4, tm_yday=230, tm_isdst=0)\n",
      "2023-08-18 02:30:56\n"
     ]
    }
   ],
   "source": [
    "# time: 시간 관련 함수\n",
    "import time\n",
    "print(time.localtime())\n",
    "print(time.strftime(\"%Y-%m-%d %H:%M:%S\"))"
   ]
  },
  {
   "cell_type": "code",
   "execution_count": 84,
   "metadata": {},
   "outputs": [
    {
     "name": "stdout",
     "output_type": "stream",
     "text": [
      "오늘 날짜는  2023-08-18\n"
     ]
    }
   ],
   "source": [
    "import datetime\n",
    "print(\"오늘 날짜는 \", datetime.date.today())"
   ]
  },
  {
   "cell_type": "code",
   "execution_count": 86,
   "metadata": {},
   "outputs": [
    {
     "name": "stdout",
     "output_type": "stream",
     "text": [
      "우리가 만난지 100일은 2023-11-26\n"
     ]
    }
   ],
   "source": [
    "# timedelta: 두 날짜 사이의 간격\n",
    "today = datetime.date.today() # 오늘 날짜 저장\n",
    "td = datetime.timedelta(days=100) # 100일 저장\n",
    "print(\"우리가 만난지 100일은\", today + td) # 오늘부터 100일 후"
   ]
  },
  {
   "attachments": {},
   "cell_type": "markdown",
   "metadata": {},
   "source": [
    "#   Quiz #10"
   ]
  },
  {
   "attachments": {},
   "cell_type": "markdown",
   "metadata": {},
   "source": [
    "Quiz) 프로젝트 내에 나만의 시그니처를 남기는 모듈을 만드시오\n",
    "\n",
    "조건: 모듈 파일명은 byme.py로 작성\n",
    "\n",
    "(모듈 사용 예제)\n",
    "import byme\n",
    "byme.sign()\n",
    "\n",
    "(출력예제)\n",
    "이 프로그램은 나도코딩에 의해 만들어졌습니다.\n",
    "유튜브: http://youtube.com\n",
    "이메일: nadocoding@gmail.com\n",
    "이메일: aspyn.lee@edwardsvacuum.com\n"
   ]
  },
  {
   "cell_type": "code",
   "execution_count": 87,
   "metadata": {},
   "outputs": [
    {
     "name": "stdout",
     "output_type": "stream",
     "text": [
      "이 프로그램은 나도코딩에 의해 만들어졌습니다.\n",
      "유튜브: http://youtube.com\n",
      "이메일: nadocoding@gmail.com\n",
      "이메일: aspyn.lee@edwardsvacuum.com\n"
     ]
    }
   ],
   "source": [
    "import byme\n",
    "byme.sign()"
   ]
  },
  {
   "cell_type": "code",
   "execution_count": null,
   "metadata": {},
   "outputs": [],
   "source": []
  },
  {
   "cell_type": "code",
   "execution_count": null,
   "metadata": {},
   "outputs": [],
   "source": []
  }
 ],
 "metadata": {
  "kernelspec": {
   "display_name": "Python 3",
   "language": "python",
   "name": "python3"
  },
  "language_info": {
   "codemirror_mode": {
    "name": "ipython",
    "version": 3
   },
   "file_extension": ".py",
   "mimetype": "text/x-python",
   "name": "python",
   "nbconvert_exporter": "python",
   "pygments_lexer": "ipython3",
   "version": "3.9.5"
  },
  "orig_nbformat": 4
 },
 "nbformat": 4,
 "nbformat_minor": 2
}

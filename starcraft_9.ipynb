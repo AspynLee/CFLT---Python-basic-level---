{
 "cells": [
  {
   "attachments": {},
   "cell_type": "markdown",
   "metadata": {},
   "source": [
    " # 스타크래프트 전반전"
   ]
  },
  {
   "cell_type": "code",
   "execution_count": null,
   "metadata": {},
   "outputs": [],
   "source": [
    "# 메딕 만들기\n",
    "# 메딕 : 의무병\n",
    "\n",
    "# 일반 유닛 <- 부모 클래스\n",
    "class Unit: # unit은 class 이름\n",
    "    def __init__(self, name, hp, speed):\n",
    "        self.name = name #.name 가 멤버 변수\n",
    "        self.hp = hp #.hp 가 멤버 변수\n",
    "        self.speed = speed\n",
    "        \n",
    "    def move(self, location):\n",
    "        print(\"[지상 유닛 이동]\")\n",
    "        print(\"{0} : {1} 방향으로 이동합니다. [속도 {2}]\".format(self.name, location, self.speed)) # 어떤 유닛이 몇 시 방향으로 이동\n",
    "\n",
    "\n",
    "# 공격 유닛 <--- 받는 상속, 자식 상속\n",
    "class AttackUnit(Unit): # 상속 받고 싶은 클래스 namedmf ()안에 적는다.!!!\n",
    "    def __init__(self, name, hp, speed, damege):\n",
    "        Unit.__init__(self, name, hp, speed) #생성자 호출!\n",
    "        self.damage = damage # 추가로 공격력 정의 할 수 있음.\n",
    "\n",
    "    def attack(self, location):\n",
    "        print(\"{0} : {1} 방향으로 적군으로 공격 합니다. [공격력 {2}]\"\\\n",
    "              .format(self.name, location, self.damage))\n",
    "        \n",
    "    def damaged(self, damage):\n",
    "        print(\"{0} : {1} 데미지를 입었습니다.\".format(self.name, damage))\n",
    "        self.hp -= damage\n",
    "        print(\"{0} : 현재 체력은 {1} 입니다.\".format(self.name, self.hp))\n",
    "        if self.hp <= 0:\n",
    "            print(\"{0} : 파괴되었습니다.\".format(self.name))\n",
    "\n",
    "\n",
    "class Flyable:\n",
    "    def __init__(self, flying_speed):\n",
    "        self.flying_speed = flying_speed\n",
    "\n",
    "    def fly(self, name, location):\n",
    "        print(\"{0} : {1} 방향으로 날아갑니다. [속도 {2}]\".format(name, location, self.flying_speed))\n",
    "        \n",
    "# 공중 공격 유닛 클래스\n",
    "class FlyableAttackUnit(AttackUnit, Flyable):\n",
    "    def __int__(self, name, hp, damage, flying_speed):\n",
    "        AttackUnit.__init__(self, name, hp, 0, damage) # 지상 speed는 0\n",
    "        Flyable.__init__(self, flying_speed)\n",
    "\n",
    "    def move(self, location):\n",
    "        print(\"[공중 유닛 이동]\")\n",
    "        self.fly(self.name, location)\n",
    "\n",
    "\n",
    "# 건물\n",
    "\n",
    "class BuildingUnit(Unit):\n",
    "    def __init__(self, name, hp, location):\n",
    "        #Unit.__init__(self, name, hp, 0)\n",
    "        super().__init__(name, hp, 0)\n",
    "        self.location = location\n",
    "\n"
   ]
  }
 ],
 "metadata": {
  "language_info": {
   "name": "python"
  },
  "orig_nbformat": 4
 },
 "nbformat": 4,
 "nbformat_minor": 2
}

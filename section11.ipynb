{
 "cells": [
  {
   "attachments": {},
   "cell_type": "markdown",
   "metadata": {},
   "source": [
    "# 모듈\n",
    "필요한 것들 끼리 부품처럼 잘 만들어진 파일\n",
    "\n",
    "에) 자동차\n",
    "타이어 마모 또는 펑크 나면, 타이어만 교체 하면 됨.\n",
    "\n",
    "소프트웨어도 타이어나 범퍼처럼 부품만 교체하거나 추가하면 유지보수가 쉽고, \n",
    "코드의 재 사용이 수월해지는 장점이 있다.\n",
    "\n",
    "파이썬에서는 함수 정의나, 클래스 등의 파이썬 문장들을 담고 있는 파일을 모듈이라고 한다.\n",
    "확장자는 .py 이다.\n",
    "\n",
    "모듈은 내가 그 모듈을 쓰려는 파일과 같은 경로에 있거나, \n",
    "또는 파이썬 라이브러리가 모여있는 폴더에 있어야 사용 가능 하다.\n",
    "\n",
    "\n",
    "\n"
   ]
  },
  {
   "cell_type": "code",
   "execution_count": 1,
   "metadata": {},
   "outputs": [
    {
     "name": "stdout",
     "output_type": "stream",
     "text": [
      "3명 가격은 30000원 입니다.\n",
      "4명 조조 할인 가격은 24000원 입니다.\n",
      "5명 군인 할인 가격은 20000원 입니다.\n"
     ]
    }
   ],
   "source": [
    "import theater_module\n",
    "theater_module.price(3) #3명이서 영화 보러 갔을 때 가격\n",
    "theater_module.price_morning(4) # 4명이서 조조 할인 영어 보러 갔을 때\n",
    "theater_module.price_soldier(5) # 5명의 군인이 영화 보러 갔을 때\n"
   ]
  },
  {
   "cell_type": "code",
   "execution_count": 2,
   "metadata": {},
   "outputs": [
    {
     "name": "stdout",
     "output_type": "stream",
     "text": [
      "3명 가격은 30000원 입니다.\n",
      "4명 조조 할인 가격은 24000원 입니다.\n",
      "5명 군인 할인 가격은 20000원 입니다.\n"
     ]
    }
   ],
   "source": [
    "import theater_module as mv # 별명을 붙여서 줄여서 사용. as뒤에 붙이면, 이 걸로 호출 할 수 있음\n",
    "mv.price(3)\n",
    "mv.price_morning(4)\n",
    "mv.price_soldier(5)"
   ]
  },
  {
   "cell_type": "code",
   "execution_count": 3,
   "metadata": {},
   "outputs": [
    {
     "name": "stdout",
     "output_type": "stream",
     "text": [
      "3명 가격은 30000원 입니다.\n",
      "4명 조조 할인 가격은 24000원 입니다.\n",
      "5명 군인 할인 가격은 20000원 입니다.\n"
     ]
    }
   ],
   "source": [
    "from theater_module import * # theater_module에서 모든 것을 다 사용하겠다. 라는 의미\n",
    "# from random import * \n",
    "\n",
    "price(3)\n",
    "price_morning(4)\n",
    "price_soldier(5)\n"
   ]
  },
  {
   "cell_type": "code",
   "execution_count": 5,
   "metadata": {},
   "outputs": [
    {
     "name": "stdout",
     "output_type": "stream",
     "text": [
      "5명 가격은 50000원 입니다.\n",
      "6명 조조 할인 가격은 36000원 입니다.\n",
      "7명 군인 할인 가격은 28000원 입니다.\n"
     ]
    }
   ],
   "source": [
    "from theater_module import price, price_morning # * 대신 내가 필요한 함수만 호출 할 수 있음\n",
    "price(5)\n",
    "price_morning(6)\n",
    "price_soldier(7)\n"
   ]
  },
  {
   "cell_type": "code",
   "execution_count": 6,
   "metadata": {},
   "outputs": [
    {
     "name": "stdout",
     "output_type": "stream",
     "text": [
      "5명 군인 할인 가격은 20000원 입니다.\n"
     ]
    }
   ],
   "source": [
    "from theater_module import price_soldier as price\n",
    "price(5)"
   ]
  },
  {
   "attachments": {},
   "cell_type": "markdown",
   "metadata": {},
   "source": [
    "# 패키지\n",
    "모듈들을 모아놓은 집합\n",
    "하나의 디렉토리에 여러 모듈 파일들을 갖다 놓은 것을 패키지로 이해하면 됨."
   ]
  },
  {
   "cell_type": "code",
   "execution_count": null,
   "metadata": {},
   "outputs": [],
   "source": []
  }
 ],
 "metadata": {
  "kernelspec": {
   "display_name": "Python 3",
   "language": "python",
   "name": "python3"
  },
  "language_info": {
   "codemirror_mode": {
    "name": "ipython",
    "version": 3
   },
   "file_extension": ".py",
   "mimetype": "text/x-python",
   "name": "python",
   "nbconvert_exporter": "python",
   "pygments_lexer": "ipython3",
   "version": "3.9.5"
  },
  "orig_nbformat": 4
 },
 "nbformat": 4,
 "nbformat_minor": 2
}

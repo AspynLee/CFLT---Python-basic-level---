{
 "cells": [
  {
   "cell_type": "code",
   "execution_count": 3,
   "metadata": {},
   "outputs": [
    {
     "name": "stdout",
     "output_type": "stream",
     "text": [
      "Unit 생성자\n"
     ]
    }
   ],
   "source": [
    "class Unit:\n",
    "    def __init__(self):\n",
    "        print(\"Unit 생성자\")\n",
    "\n",
    "class Flyable:\n",
    "    def __init__(self):\n",
    "        print(\"Flyable 생성자\")\n",
    "\n",
    "class FlyableUnit(Unit, Flyable):\n",
    "    def __init__(self):\n",
    "        super().__init__()\n",
    "\n",
    "\n",
    "# 드랍쉽\n",
    "deopship = FlyableUnit()"
   ]
  },
  {
   "attachments": {},
   "cell_type": "markdown",
   "metadata": {},
   "source": [
    "# 상속 순서 바꾸기"
   ]
  },
  {
   "cell_type": "code",
   "execution_count": 4,
   "metadata": {},
   "outputs": [
    {
     "name": "stdout",
     "output_type": "stream",
     "text": [
      "Flyable 생성자\n"
     ]
    }
   ],
   "source": [
    "class Unit:\n",
    "    def __init__(self):\n",
    "        print(\"Unit 생성자\")\n",
    "\n",
    "class Flyable:\n",
    "    def __init__(self):\n",
    "        print(\"Flyable 생성자\")\n",
    "\n",
    "class FlyableUnit(Flyable, Unit): # 2개 이상의 부모 클라스 다중 상속 받을 때 순서 변경\n",
    "    def __init__(self):\n",
    "        super().__init__()\n",
    "\n",
    "\n",
    "# 드랍쉽\n",
    "deopship = FlyableUnit() # 다중 상속"
   ]
  },
  {
   "attachments": {},
   "cell_type": "markdown",
   "metadata": {},
   "source": [
    "# super는 맨 마지막 받는 상속 클래스에 대해서만 __init__함수 상속 받는다. \n",
    "# 이런 문제 있기 때문에, 두번을 통해서 상속 받는 것 작성한다. \n"
   ]
  },
  {
   "cell_type": "code",
   "execution_count": 5,
   "metadata": {},
   "outputs": [
    {
     "name": "stdout",
     "output_type": "stream",
     "text": [
      "Unit 생성자\n",
      "Flyable 생성자\n"
     ]
    }
   ],
   "source": [
    "class Unit:\n",
    "    def __init__(self):\n",
    "        print(\"Unit 생성자\")\n",
    "\n",
    "class Flyable:\n",
    "    def __init__(self):\n",
    "        print(\"Flyable 생성자\")\n",
    "\n",
    "class FlyableUnit(Flyable, Unit): # 2개 이상의 부모 클라스 다중 상속 받을 때 순서 변경\n",
    "    def __init__(self):\n",
    "        # super().__init__()\n",
    "        Unit.__init__(self)\n",
    "        Flyable.__init__(self) # 이렇게 두번 작성 한다.\n",
    "\n",
    "\n",
    "# 드랍쉽\n",
    "deopship = FlyableUnit() # 다중 상속"
   ]
  },
  {
   "cell_type": "code",
   "execution_count": null,
   "metadata": {},
   "outputs": [],
   "source": []
  }
 ],
 "metadata": {
  "kernelspec": {
   "display_name": "Python 3",
   "language": "python",
   "name": "python3"
  },
  "language_info": {
   "codemirror_mode": {
    "name": "ipython",
    "version": 3
   },
   "file_extension": ".py",
   "mimetype": "text/x-python",
   "name": "python",
   "nbconvert_exporter": "python",
   "pygments_lexer": "ipython3",
   "version": "3.9.5"
  },
  "orig_nbformat": 4
 },
 "nbformat": 4,
 "nbformat_minor": 2
}

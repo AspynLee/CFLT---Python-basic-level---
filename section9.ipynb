{
 "cells": [
  {
   "attachments": {},
   "cell_type": "markdown",
   "metadata": {},
   "source": [
    "클래스 9-1\n",
    "- 클래스는 붕어빵 틀 같은 존재.\n",
    "붕어 모양 갖춰져 있고, 틀에 맞춰서 재료 넣고 붕어 빵 만들어짐\n",
    "틀은 한개 인데, 붕어빵은 무한정 만들 수 있다. "
   ]
  },
  {
   "cell_type": "code",
   "execution_count": 1,
   "metadata": {},
   "outputs": [
    {
     "name": "stdout",
     "output_type": "stream",
     "text": [
      "마린 유닛이 생성되었습니다.\n",
      "체력 40, 공격력 5\n",
      "\n"
     ]
    }
   ],
   "source": [
    "# 마린 : 공격 유닛, 군인. 총을 쓸 수 있음\n",
    "\n",
    "name = \"마린\" # 유닛의 이름\n",
    "hp = 40 # 유닛의 체력\n",
    "damage = 5 # 유닛의 공격력\n",
    "\n",
    "print(\"{0} 유닛이 생성되었습니다.\".format(name)) # format 만들 시 {0} 안 넣어도 됨. {} 가능\n",
    "print(\"체력 {0}, 공격력 {1}\\n\".format(hp, damage))\n"
   ]
  },
  {
   "cell_type": "code",
   "execution_count": 2,
   "metadata": {},
   "outputs": [
    {
     "name": "stdout",
     "output_type": "stream",
     "text": [
      "탱크 유닛이 생성되었습니다.\n",
      "체력 150, 공격력 35\n",
      "\n"
     ]
    }
   ],
   "source": [
    "# 탱크 : 공격 유닛, 탱크. 포를 쓸 수 있는데, 일반 모드 / 시즈 모드. 탱크 고정해서 쏘는 것. 공격력 강함.\n",
    "\n",
    "tank_name = \"탱크\"\n",
    "tank_hp = 150 #체력\n",
    "tank_damage = 35\n",
    "\n",
    "print(\"{0} 유닛이 생성되었습니다.\".format(tank_name))\n",
    "print(\"체력 {0}, 공격력 {1}\\n\".format(tank_hp, tank_damage))\n"
   ]
  },
  {
   "cell_type": "code",
   "execution_count": 3,
   "metadata": {},
   "outputs": [
    {
     "name": "stdout",
     "output_type": "stream",
     "text": [
      "마린 : 1시 방향으로 적군을 공격 합니다. [공격력 5]\n",
      "탱크 : 1시 방향으로 적군을 공격 합니다. [공격력 35]\n"
     ]
    }
   ],
   "source": [
    "# def 사용해서 함수 만들어 보기.\n",
    "def attack(name, location, damage):\n",
    "    print(\"{0} : {1} 방향으로 적군을 공격 합니다. [공격력 {2}]\".format(\\\n",
    "        name, location, damage))\n",
    "    \n",
    "attack(name, \"1시\", damage)\n",
    "attack(tank_name, \"1시\", tank_damage)\n",
    "\n",
    "# 질문1: attack에서, attack(name, location, damage) 인데, \n",
    "# 아래 호출한 attack은, attack(tank_name, \"1시\", tank_damage) 이름이 다름. \n",
    "# 인덱스 위치로 format이 받는 것임? \"1시\" 아닌, location\n",
    "\n"
   ]
  },
  {
   "cell_type": "code",
   "execution_count": 4,
   "metadata": {},
   "outputs": [
    {
     "name": "stdout",
     "output_type": "stream",
     "text": [
      "탱크 유닛이 생성되었습니다.\n",
      "체력 150, 공격력 35\n",
      "\n",
      "마린 : 1시 방향으로 적군을 공격 합니다. [공격력 5]\n",
      "탱크 : 1시 방향으로 적군을 공격 합니다. [공격력 35]\n"
     ]
    }
   ],
   "source": [
    "# 탱크 : 공격 유닛, 탱크. 포를 쓸 수 있는데, 일반 모드 / 시즈 모드.\n",
    "\n",
    "tank_name = \"탱크\"\n",
    "tank_hp = 150\n",
    "tank_damage = 35\n",
    "\n",
    "print(\"{0} 유닛이 생성되었습니다.\".format(tank_name))\n",
    "print(\"체력 {0}, 공격력 {1}\\n\".format(tank_hp, tank_damage))\n",
    "\n",
    "def attack(name, location, damage):\n",
    "    print(\"{0} : {1} 방향으로 적군을 공격 합니다. [공격력 {2}]\".format(\\\n",
    "        name, location, damage))\n",
    "    \n",
    "attack(name, \"1시\", damage)\n",
    "attack(tank_name, \"1시\", tank_damage)"
   ]
  },
  {
   "cell_type": "code",
   "execution_count": 5,
   "metadata": {},
   "outputs": [
    {
     "name": "stdout",
     "output_type": "stream",
     "text": [
      "탱크 유닛이 생성되었습니다.\n",
      "체력 150, 공격력 35\n",
      "\n",
      "탱크 유닛이 생성되었습니다.\n",
      "체력 150, 공격력 35\n",
      "\n",
      "마린 : 1시 방향으로 적군을 공격 합니다. [공격력 5]\n",
      "탱크 : 1시 방향으로 적군을 공격 합니다. [공격력 35]\n"
     ]
    }
   ],
   "source": [
    "# 탱크 : 공격 유닛, 탱크. 포를 쓸 수 있는데, 일반 모드 / 시즈 모드.\n",
    "\n",
    "tank_name = \"탱크\"\n",
    "tank_hp = 150\n",
    "tank_damage = 35\n",
    "\n",
    "print(\"{0} 유닛이 생성되었습니다.\".format(tank_name))\n",
    "print(\"체력 {0}, 공격력 {1}\\n\".format(tank_hp, tank_damage))\n",
    "\n",
    "tank2_name = \"탱크\"\n",
    "tank2_hp = 150\n",
    "tank2_damage = 35\n",
    "\n",
    "print(\"{0} 유닛이 생성되었습니다.\".format(tank2_name))\n",
    "print(\"체력 {0}, 공격력 {1}\\n\".format(tank2_hp, tank2_damage))\n",
    "\n",
    "\n",
    "def attack(name, location, damage):\n",
    "    print(\"{0} : {1} 방향으로 적군을 공격 합니다. [공격력 {2}]\".format(\\\n",
    "        name, location, damage))\n",
    "    \n",
    "attack(name, \"1시\", damage)\n",
    "attack(tank2_name, \"1시\", tank2_damage)"
   ]
  },
  {
   "cell_type": "code",
   "execution_count": 19,
   "metadata": {},
   "outputs": [],
   "source": [
    "# # 탱크 : 공격 유닛, 탱크. 포를 쓸 수 있는데, 일반 모드 / 시즈 모드.\n",
    "\n",
    "# tank_name = \"탱크\"\n",
    "# tank_hp = 150\n",
    "# tank_damage = 35\n",
    "\n",
    "# print(\"{0} 유닛이 생성되었습니다.\".format(tank_name))\n",
    "# print(\"체력 {0}, 공격력 {1}\\n\".format(tank_hp, tank_damage))\n",
    "\n",
    "# tank2_name = \"탱크\"\n",
    "# tank2_hp = 150\n",
    "# tank2_damage = 35\n",
    "\n",
    "# print(\"{0} 유닛이 생성되었습니다.\".format(tank2_name))\n",
    "# print(\"체력 {0}, 공격력 {1}\\n\".format(tank2_hp, tank2_damage))\n",
    "\n",
    "\n",
    "# def attack(name, location, damage):\n",
    "#     print(\"{0} : {1} 방향으로 적군을 공격 합니다. [공격력 {2}]\".format(\\\n",
    "#         name, location, damage))\n",
    "    \n",
    "# attack(name, \"1시\", damage)\n",
    "# attack(tank2_name, \"1시\", tank2_damage)"
   ]
  },
  {
   "cell_type": "code",
   "execution_count": 6,
   "metadata": {},
   "outputs": [
    {
     "name": "stdout",
     "output_type": "stream",
     "text": [
      "마린 유닛이 생성 되었습니다.\n",
      "체력 40, 공격력 5\n",
      "마린 유닛이 생성 되었습니다.\n",
      "체력 40, 공격력 5\n",
      "탱크 유닛이 생성 되었습니다.\n",
      "체력 150, 공격력 35\n"
     ]
    }
   ],
   "source": [
    "class Unit: # unit은 class 이름\n",
    "    def __init__(self, name, hp, damage): # (self, name... 이런 애들은 인자들), #__init__ 함수임.\n",
    "        self.name = name\n",
    "        self.hp = hp\n",
    "        self.damage = damage\n",
    "        print(\"{0} 유닛이 생성 되었습니다.\".format(self.name))\n",
    "        print(\"체력 {0}, 공격력 {1}\".format(self.hp, self.damage))\n",
    "    \n",
    "marine1 = Unit(\"마린\", 40, 5) # self 제외하고 작성 함.\n",
    "marine2 = Unit(\"마린\", 40, 5)\n",
    "tank = Unit(\"탱크\", 150, 35)\n",
    "\n",
    "# 똑같은 class를 통해서 서로 다른 유닛을 만들 수 있음"
   ]
  },
  {
   "attachments": {},
   "cell_type": "markdown",
   "metadata": {},
   "source": [
    "<!-- # __init__\n",
    "파이썬에서 쓰이는 생성자이다.\n",
    "즉, 마린, 탱크같은 객체가 만들어 질 때 자동으로 호출되는 부분임. \n",
    "객체: 마린, 탱크 처럼 클래스로 부터 만들어 지는 녀석들을 객체라고 표현 함. \n",
    "이때, 마린과 탱크는 unit 클래스의 인스턴스 라고 표현 함. \n",
    "\n",
    "객체가 생성될 때 기본적으로 __init__함수와 동일한 개수로 해야 한다. self 제외하고, \n",
    "def__init__(self, name, hp, damage) -->\n"
   ]
  },
  {
   "attachments": {},
   "cell_type": "markdown",
   "metadata": {},
   "source": [
    "__init__\n",
    "파이썬에서 쓰이는 생성자이다.\n",
    "즉, 마린, 탱크같은 객체가 만들어 질 때 자동으로 호출되는 부분임. \n",
    "객체: 마린, 탱크 처럼 클래스로 부터 만들어 지는 녀석들을 객체라고 표현 함. \n",
    "이때, 마린과 탱크는 unit 클래스의 인스턴스 라고 표현 함. \n",
    "\n",
    "객체가 생성될 때 기본적으로 __init__함수와 동일한 개수로 해야 한다. self 제외하고, \n",
    "def__init__(self, name, hp, damage)"
   ]
  },
  {
   "cell_type": "markdown",
   "metadata": {},
   "source": [
    "<!-- __init__\n",
    "파이썬에서 쓰이는 생성자이다.\n",
    "즉, 마린, 탱크 같은 객체가 만들어 질때, 자동으로 호출되는 부분.\n",
    "객체: 마린, 탱크와 같은 클래스로 부터 만들어지는 녀석들을 객체라고 표현한다. \n",
    "이때, 마린, 탱크는 유닛 클래스의 인스터스 라고 표현한다. \n",
    "\n",
    "self 제외하고, 동일 한 개수의 값을 던져 줘야 한다.  -->"
   ]
  },
  {
   "cell_type": "code",
   "execution_count": 8,
   "metadata": {},
   "outputs": [],
   "source": [
    "# __init__\n",
    "# 파이썬에서 쓰이는 생성자이다.\n",
    "# 즉, 마린, 탱크같은 객체가 만들어 질 때 자동으로 호출되는 부분임. \n",
    "# 객체: 마린, 탱크 처럼 클래스로 부터 만들어 지는 녀석들을 객체라고 표현 함. \n",
    "# 이때, 마린과 탱크는 unit 클래스의 인스턴스 라고 표현 함. \n",
    "\n",
    "# 객체가 생성될 때 기본적으로 __init__함수와 동일한 개수로 해야 한다. self 제외하고, \n",
    "# def__init__(self, name, hp, damage)"
   ]
  },
  {
   "cell_type": "code",
   "execution_count": 2,
   "metadata": {},
   "outputs": [
    {
     "ename": "TypeError",
     "evalue": "__init__() missing 2 required positional arguments: 'hp' and 'damage'",
     "output_type": "error",
     "traceback": [
      "\u001b[1;31m---------------------------------------------------------------------------\u001b[0m",
      "\u001b[1;31mTypeError\u001b[0m                                 Traceback (most recent call last)",
      "\u001b[1;32m<ipython-input-2-fc042b728fce>\u001b[0m in \u001b[0;36m<module>\u001b[1;34m\u001b[0m\n\u001b[0;32m      6\u001b[0m         \u001b[0mprint\u001b[0m\u001b[1;33m(\u001b[0m\u001b[1;34m\"{0} 유닛이 생성 되었습니다.\"\u001b[0m\u001b[1;33m.\u001b[0m\u001b[0mformat\u001b[0m\u001b[1;33m(\u001b[0m\u001b[0mself\u001b[0m\u001b[1;33m.\u001b[0m\u001b[0mname\u001b[0m\u001b[1;33m)\u001b[0m\u001b[1;33m)\u001b[0m\u001b[1;33m\u001b[0m\u001b[1;33m\u001b[0m\u001b[0m\n\u001b[0;32m      7\u001b[0m         \u001b[0mprint\u001b[0m\u001b[1;33m(\u001b[0m\u001b[1;34m\"체력 {0}, 공격력 {1}\"\u001b[0m\u001b[1;33m.\u001b[0m\u001b[0mformat\u001b[0m\u001b[1;33m(\u001b[0m\u001b[0mself\u001b[0m\u001b[1;33m.\u001b[0m\u001b[0mhp\u001b[0m\u001b[1;33m,\u001b[0m \u001b[0mself\u001b[0m\u001b[1;33m.\u001b[0m\u001b[0mdamage\u001b[0m\u001b[1;33m)\u001b[0m\u001b[1;33m)\u001b[0m\u001b[1;33m\u001b[0m\u001b[1;33m\u001b[0m\u001b[0m\n\u001b[1;32m----> 8\u001b[1;33m \u001b[0mmarine3\u001b[0m \u001b[1;33m=\u001b[0m \u001b[0mUnit\u001b[0m\u001b[1;33m(\u001b[0m\u001b[1;34m\"마린\"\u001b[0m\u001b[1;33m)\u001b[0m\u001b[1;33m\u001b[0m\u001b[1;33m\u001b[0m\u001b[0m\n\u001b[0m\u001b[0;32m      9\u001b[0m \u001b[0mmarine3\u001b[0m \u001b[1;33m=\u001b[0m \u001b[0mUnit\u001b[0m\u001b[1;33m(\u001b[0m\u001b[1;34m\"마린\"\u001b[0m\u001b[1;33m,\u001b[0m \u001b[1;36m40\u001b[0m\u001b[1;33m)\u001b[0m\u001b[1;33m\u001b[0m\u001b[1;33m\u001b[0m\u001b[0m\n",
      "\u001b[1;31mTypeError\u001b[0m: __init__() missing 2 required positional arguments: 'hp' and 'damage'"
     ]
    }
   ],
   "source": [
    "class Unit: # unit은 class 이름\n",
    "    def __init__(self, name, hp, damage):\n",
    "        self.name = name #.name 가 멤버 변수\n",
    "        self.hp = hp #.hp 가 멤버 변수\n",
    "        self.damage = damage #.damage가 멤버 변수\n",
    "        print(\"{0} 유닛이 생성 되었습니다.\".format(self.name))\n",
    "        print(\"체력 {0}, 공격력 {1}\".format(self.hp, self.damage))\n",
    "marine3 = Unit(\"마린\")\n",
    "marine3 = Unit(\"마린\", 40)\n"
   ]
  },
  {
   "attachments": {},
   "cell_type": "markdown",
   "metadata": {},
   "source": [
    "멤버 변수 -> 클래스 내에서 정의 된 변수\n",
    "그 변수를 가지고 우리가 초기화 할 수 있고, 실제 사용도 가능 하다.\n"
   ]
  },
  {
   "cell_type": "code",
   "execution_count": 5,
   "metadata": {},
   "outputs": [
    {
     "name": "stdout",
     "output_type": "stream",
     "text": [
      "레이스 유닛이 생성 되었습니다.\n",
      "체력 80, 공격력 5\n",
      "유닛 이름 : 레이스, 공격력 : 5\n",
      "빼앗은 레이스 유닛이 생성 되었습니다.\n",
      "체력 80, 공격력 5\n",
      "빼앗은 레이스 는 현재 클로킹 상태입니다.\n"
     ]
    }
   ],
   "source": [
    "class Unit: # unit은 class 이름\n",
    "    def __init__(self, name, hp, damage):\n",
    "        self.name = name #.name 가 멤버 변수\n",
    "        self.hp = hp #.hp 가 멤버 변수\n",
    "        self.damage = damage #.damage가 멤버 변수\n",
    "        print(\"{0} 유닛이 생성 되었습니다.\".format(self.name))\n",
    "        print(\"체력 {0}, 공격력 {1}\".format(self.hp, self.damage))\n",
    "\n",
    "\n",
    "# 레이스 : 공중 유닛, 비행기. 클로킹 기능 있음(상대방에게 보이지 않음)\n",
    "\n",
    "wraith1 = Unit(\"레이스\", 80, 5)\n",
    "print(\"유닛 이름 : {0}, 공격력 : {1}\".format(wraith1.name, wraith1.damage)) # 클래스 외부에서 멤버 변수 사용, . 사용해서 __init__ 멤버 변수에 접근 할 수 있다. \n",
    "\n",
    "\n",
    "\n",
    "# 마인드 컨트롤 : 상대방 유닛을 내 것으로 만드는 것 (빼앗음)\n",
    "\n",
    "wraith2 = Unit(\"빼앗은 레이스\", 80, 5)\n",
    "wraith2.clocking = True \n",
    "# 기존에 있던, Class Unit에는 이 clocking 기능 없음.  def __init__(self, name, hp, damage): \n",
    "# 이렇게 class 외부에서 변수 추가로 할당 해서 확장 사용 할 수 있음.\n",
    "# 확장된 변수는 내가 확장한 객체에 대해서만 적용 된다.\n",
    "# 파이썬에서는 어떤 객체에 추가로 변수를 외부에서 만들어서 쓸 수 있다. \n",
    "# 차이점: 레이스2에는 클로킹이 있지만, 레이스1에는 클로킹이 없다.\n",
    "\n",
    "if wraith2.clocking == True: # wraith1으로 변경 시, 기존에 있던 객체는 변경이 안됨. 새로운 것만 가능 함\n",
    "    print(\"{0} 는 현재 클로킹 상태입니다.\".format(wraith2.name))\n",
    "\n",
    "\n",
    "    "
   ]
  },
  {
   "cell_type": "code",
   "execution_count": 6,
   "metadata": {},
   "outputs": [
    {
     "name": "stdout",
     "output_type": "stream",
     "text": [
      "레이스 유닛이 생성 되었습니다.\n",
      "체력 80, 공격력 5\n",
      "레이스 는 현재 클로킹 상태입니다.\n"
     ]
    }
   ],
   "source": [
    "# 마인드 컨트롤 : 상대방 유닛을 내 것으로 만드는 것 (빼앗음)\n",
    "\n",
    "wraith2 = Unit(\"레이스\", 80, 5)\n",
    "wraith2.clocking = True\n",
    "\n",
    "if wraith2.clocking == True:\n",
    "    print(\"{0} 는 현재 클로킹 상태입니다.\".format(wraith2.name))"
   ]
  },
  {
   "cell_type": "code",
   "execution_count": 7,
   "metadata": {},
   "outputs": [
    {
     "name": "stdout",
     "output_type": "stream",
     "text": [
      "레이스 유닛이 생성 되었습니다.\n",
      "체력 80, 공격력 5\n"
     ]
    },
    {
     "ename": "AttributeError",
     "evalue": "'Unit' object has no attribute 'clocking'",
     "output_type": "error",
     "traceback": [
      "\u001b[1;31m---------------------------------------------------------------------------\u001b[0m",
      "\u001b[1;31mAttributeError\u001b[0m                            Traceback (most recent call last)",
      "\u001b[1;32m<ipython-input-7-ab1816e037d7>\u001b[0m in \u001b[0;36m<module>\u001b[1;34m\u001b[0m\n\u001b[0;32m      6\u001b[0m \u001b[0mwraith2\u001b[0m\u001b[1;33m.\u001b[0m\u001b[0mclocking\u001b[0m \u001b[1;33m=\u001b[0m \u001b[1;32mTrue\u001b[0m\u001b[1;33m\u001b[0m\u001b[1;33m\u001b[0m\u001b[0m\n\u001b[0;32m      7\u001b[0m \u001b[1;33m\u001b[0m\u001b[0m\n\u001b[1;32m----> 8\u001b[1;33m \u001b[1;32mif\u001b[0m \u001b[0mwraith1\u001b[0m\u001b[1;33m.\u001b[0m\u001b[0mclocking\u001b[0m \u001b[1;33m==\u001b[0m \u001b[1;32mTrue\u001b[0m\u001b[1;33m:\u001b[0m\u001b[1;33m\u001b[0m\u001b[1;33m\u001b[0m\u001b[0m\n\u001b[0m\u001b[0;32m      9\u001b[0m     \u001b[0mprint\u001b[0m\u001b[1;33m(\u001b[0m\u001b[1;34m\"{0} 는 현재 클로킹 상태입니다.\"\u001b[0m\u001b[1;33m.\u001b[0m\u001b[0mformat\u001b[0m\u001b[1;33m(\u001b[0m\u001b[0mwraith2\u001b[0m\u001b[1;33m.\u001b[0m\u001b[0mname\u001b[0m\u001b[1;33m)\u001b[0m\u001b[1;33m)\u001b[0m\u001b[1;33m\u001b[0m\u001b[1;33m\u001b[0m\u001b[0m\n",
      "\u001b[1;31mAttributeError\u001b[0m: 'Unit' object has no attribute 'clocking'"
     ]
    }
   ],
   "source": [
    "# wraith1에 클로킹 기능 없음\n",
    "# def __init__(self, name, hp, damage): 3개 기능 밖에 없음. \n",
    "# 따라서 유닛에 클로킹 없다고 오류 남.\n",
    "\n",
    "wraith2 = Unit(\"레이스\", 80, 5)\n",
    "wraith2.clocking = True\n",
    "\n",
    "if wraith1.clocking == True:\n",
    "    print(\"{0} 는 현재 클로킹 상태입니다.\".format(wraith2.name))"
   ]
  },
  {
   "cell_type": "code",
   "execution_count": null,
   "metadata": {},
   "outputs": [],
   "source": []
  },
  {
   "attachments": {},
   "cell_type": "markdown",
   "metadata": {},
   "source": [
    "# 메소드"
   ]
  },
  {
   "cell_type": "markdown",
   "metadata": {},
   "source": []
  },
  {
   "cell_type": "code",
   "execution_count": 15,
   "metadata": {},
   "outputs": [
    {
     "name": "stdout",
     "output_type": "stream",
     "text": [
      "파이어뱃 : 5시 방향으로 적군으로 공격 합니다. [공격력 5]\n",
      "파이어뱃 : 25 데미지를 입었습니다.\n",
      "파이어뱃 : 현재 체력은 25 입니다.\n",
      "파이어뱃 : 25 데미지를 입었습니다.\n",
      "파이어뱃 : 현재 체력은 0 입니다.\n",
      "파이어뱃 : 파괴되었습니다.\n"
     ]
    }
   ],
   "source": [
    "# 일반 유닛\n",
    "class Unit: # unit은 class 이름\n",
    "    def __init__(self, name, hp, damage):\n",
    "        self.name = name #.name 가 멤버 변수\n",
    "        self.hp = hp #.hp 가 멤버 변수\n",
    "        self.damage = damage #.damage가 멤버 변수\n",
    "        print(\"{0} 유닛이 생성 되었습니다.\".format(self.name))\n",
    "        print(\"체력 {0}, 공격력 {1}\".format(self.hp, self.damage))\n",
    "\n",
    "# 공격 유닛\n",
    "class AttackUnit:\n",
    "    def __init__(self, name, hp, damege): #self는 자기 자신을 의미한다. class내에서 methode앞에는 self 무조건 적어준다고 이해 하면 됨.\n",
    "        # self.무엇을 통해서 자기 자신에게 접근 할 수 있는 것.\n",
    "        self.name = name # 여기에선 self.name이 아님, 위에 __init__(self, name, hp, damege):에서 전달받은 name 인자를 사용 한다는 의미\n",
    "        self.hp = hp\n",
    "        self.damage = damage\n",
    "\n",
    "    def attack(self, location):\n",
    "        print(\"{0} : {1} 방향으로 적군으로 공격 합니다. [공격력 {2}]\"\\\n",
    "              .format(self.name, location, self.damage))\n",
    "        # self.name에서 전달받은 값 사용, def attack(self, location): 전달 받은 location 값 바로 사용.\n",
    "\n",
    "    def damaged(self, damage):\n",
    "        print(\"{0} : {1} 데미지를 입었습니다.\".format(self.name, damage))\n",
    "        self.hp -= damage\n",
    "\n",
    "        print(\"{0} : 현재 체력은 {1} 입니다.\".format(self.name, self.hp))\n",
    "        if self.hp <= 0:\n",
    "            print(\"{0} : 파괴되었습니다.\".format(self.name))\n",
    "            \n",
    "# 메딕 : 의무병\n",
    "\n",
    "# 파이어뱃: 공격 유닛, 화염방사기.\n",
    "firebat1 = AttackUnit(\"파이어뱃\", 50, 16) # AttackUni 클래스를 이용해서 만들기.\n",
    "firebat1.attack(\"5시\") # def attack(self, location): 사용, self는 따로 보내줄 필요 없음. 5시정보만 보냄.\n",
    "\n",
    "# 공격 2번 받는다고 가정\n",
    "firebat1.damaged(25)\n",
    "firebat1.damaged(25)"
   ]
  },
  {
   "cell_type": "code",
   "execution_count": null,
   "metadata": {},
   "outputs": [],
   "source": []
  },
  {
   "cell_type": "markdown",
   "metadata": {},
   "source": []
  },
  {
   "attachments": {},
   "cell_type": "markdown",
   "metadata": {},
   "source": [
    "# 상속 : 물려 받기, name, hp 사용이 똑같음. 겹치는 부분이 있을 때 상속 사용 가능 함.\n",
    "# Unit 이라는 내용을 상속 받아서 AttackUnit을 만들음.\n"
   ]
  },
  {
   "cell_type": "code",
   "execution_count": 21,
   "metadata": {},
   "outputs": [
    {
     "name": "stdout",
     "output_type": "stream",
     "text": [
      "파이어뱃 : 5시 방향으로 적군으로 공격 합니다. [공격력 5]\n",
      "파이어뱃 : 25 데미지를 입었습니다.\n",
      "파이어뱃 : 현재 체력은 25 입니다.\n",
      "파이어뱃 : 25 데미지를 입었습니다.\n",
      "파이어뱃 : 현재 체력은 0 입니다.\n",
      "파이어뱃 : 파괴되었습니다.\n"
     ]
    }
   ],
   "source": [
    "\n"
   ]
  },
  {
   "attachments": {},
   "cell_type": "markdown",
   "metadata": {},
   "source": [
    "# 다중상속\n",
    "# - 부모가 둘 이상, 여러 곳에서 상속을 받는다.\n",
    "\n",
    "# Unit <--- 부모 클래스\n",
    "# AttackUnit <--- 자식 클래스"
   ]
  },
  {
   "attachments": {},
   "cell_type": "markdown",
   "metadata": {},
   "source": [
    "<!-- 다중상속\n",
    "- 부모가 둘 이상, 여러 곳에서 상속을 받는다.\n",
    "\n",
    "Unit <--- 부모 클래스\n",
    "AttackUnit <--- 자식 클래스 -->"
   ]
  },
  {
   "cell_type": "code",
   "execution_count": 17,
   "metadata": {},
   "outputs": [
    {
     "name": "stdout",
     "output_type": "stream",
     "text": [
      "발키리 : 3시 방향으로 날아갑니다. [속도 5]\n"
     ]
    }
   ],
   "source": [
    "# 일반 유닛 <--- 부모 클래스\n",
    "class Unit: # unit은 class 이름\n",
    "    def __init__(self, name, hp): #이름, 체력만 전달 받음.\n",
    "        self.name = name #.name 가 멤버 변수\n",
    "        self.hp = hp #.hp 가 멤버 변수\n",
    "    \n",
    "# 공격 유닛 <--- 받는 상속, 자식 상속\n",
    "class AttackUnit(Unit): # 상속 받고 싶은 클래스 namedmf ()안에 적는다.!!!\n",
    "    def __init__(self, name, hp, damage):\n",
    "        Unit.__init__(self, name, hp) #생성자 호출!\n",
    "        self.damage = damage # 추가로 공격력 정의 할 수 있음.\n",
    "\n",
    "    def attack(self, location):\n",
    "        print(\"{0} : {1} 방향으로 적군으로 공격 합니다. [공격력 {2}]\"\\\n",
    "              .format(self.name, location, self.damage))\n",
    "        \n",
    "    def damaged(self, damage):\n",
    "        print(\"{0} : {1} 데미지를 입었습니다.\".format(self.name, damage))\n",
    "        self.hp -= damage\n",
    "        print(\"{0} : 현재 체력은 {1} 입니다.\".format(self.name, self.hp))\n",
    "        if self.hp <= 0:\n",
    "            print(\"{0} : 파괴되었습니다.\".format(self.name))\n",
    "\n",
    "# 드랍쉽 : 공중 유닛, 수송기. 마린 / 파이어뱃 / 탱크 등을 수송. 공격 X\n",
    "\n",
    "# 날 수 있는 기능을 가진 클래스 새로 추가\n",
    "class Flyable:\n",
    "    def __init__(self, flying_speed):\n",
    "        self.flying_speed = flying_speed #멤버 변수 초기화\n",
    "\n",
    "    def fly(self, name, location):\n",
    "        print(\"{0} : {1} 방향으로 날아갑니다. [속도 {2}]\"\\\n",
    "              .format(name, location, self.flying_speed))\n",
    "\n",
    "# 공중 공격 유닛 클래스 만들기\n",
    "class FlyableAttackUnit(AttackUnit, Flyable): # 다중상속 받을 때는 ,로 구분 한다.\n",
    "    def __init__(self, name, hp, damage, flying_speed):\n",
    "        AttackUnit.__init__(self, name, hp, damage)\n",
    "        Flyable.__init__(self, flying_speed) #멤버 변수 초기화\n",
    "\n",
    "# 발키리 : 공중 공격 유닛, 한번에 14발 미사일 발사.\n",
    "\n",
    "valkyrie = FlyableAttackUnit(\"발키리\", 200, 6, 5)\n",
    "valkyrie.fly(valkyrie.name, \"3시\") # class Flyable: 에 있는, def fly(self, name, location): 함수 호출 하게 되는 것 !!\n",
    "\n",
    "# 4:09:24초 부터 다시 확인 필요함!!"
   ]
  },
  {
   "cell_type": "markdown",
   "metadata": {},
   "source": []
  },
  {
   "cell_type": "code",
   "execution_count": null,
   "metadata": {},
   "outputs": [],
   "source": []
  },
  {
   "cell_type": "markdown",
   "metadata": {},
   "source": []
  },
  {
   "attachments": {},
   "cell_type": "markdown",
   "metadata": {},
   "source": [
    "9-7 메소드 오버라이딩 "
   ]
  },
  {
   "cell_type": "code",
   "execution_count": 21,
   "metadata": {},
   "outputs": [
    {
     "name": "stdout",
     "output_type": "stream",
     "text": [
      "[공중 유닛 이동]\n",
      "배틀크루져 : 9시 방향으로 날아갑니다. [속도 3]\n",
      "[지상 유닛 이동]\n",
      "벌쳐 : 11시 방향으로 이동합니다. [속도 10]\n",
      "[공중 유닛 이동]\n",
      "배틀크루져 : 9시 방향으로 날아갑니다. [속도 3]\n"
     ]
    }
   ],
   "source": [
    "# 일반 유닛 <- 부모 클래스\n",
    "class Unit: # unit은 class 이름\n",
    "    def __init__(self, name, hp, speed):\n",
    "        self.name = name #.name 가 멤버 변수\n",
    "        self.hp = hp #.hp 가 멤버 변수\n",
    "        self.speed = speed\n",
    "        \n",
    "    def move(self, location):\n",
    "        print(\"[지상 유닛 이동]\")\n",
    "        print(\"{0} : {1} 방향으로 이동합니다. [속도 {2}]\"\\\n",
    "              .format(self.name, location, self.speed)) # 어떤 유닛이 몇 시 방향으로 이동\n",
    "\n",
    "\n",
    "# 공격 유닛 <--- 받는 상속, 자식 상속\n",
    "class AttackUnit(Unit): # 상속 받고 싶은 클래스 namedmf ()안에 적는다.!!!\n",
    "    def __init__(self, name, hp, speed, damage):\n",
    "        Unit.__init__(self, name, hp, speed) #생성자 호출!\n",
    "        self.damage = damage # 추가로 공격력 정의 할 수 있음.\n",
    "\n",
    "    def attack(self, location):\n",
    "        print(\"{0} : {1} 방향으로 적군으로 공격 합니다. [공격력 {2}]\"\\\n",
    "              .format(self.name, location, self.damage))\n",
    "        \n",
    "    def damaged(self, damage):\n",
    "        print(\"{0} : {1} 데미지를 입었습니다.\".format(self.name, damage))\n",
    "        self.hp -= damage\n",
    "        print(\"{0} : 현재 체력은 {1} 입니다.\".format(self.name, self.hp))\n",
    "        if self.hp <= 0:\n",
    "            print(\"{0} : 파괴되었습니다.\".format(self.name))\n",
    "\n",
    "\n",
    "class Flyable:\n",
    "    def __init__(self, flying_speed):\n",
    "        self.flying_speed = flying_speed\n",
    "\n",
    "    def fly(self, name, location):\n",
    "        print(\"{0} : {1} 방향으로 날아갑니다. [속도 {2}]\".format(name, location, self.flying_speed))\n",
    "        \n",
    "# 공중 공격 유닛 클래스\n",
    "class FlyableAttackUnit(AttackUnit, Flyable):\n",
    "    def __init__(self, name, hp, damage, flying_speed):\n",
    "        AttackUnit.__init__(self, name, hp, 0, damage) # 지상 speed는 0으로 처리\n",
    "        Flyable.__init__(self, flying_speed)\n",
    "\n",
    "    def move(self, location):\n",
    "        print(\"[공중 유닛 이동]\")\n",
    "        self.fly(self.name, location)\n",
    "\n",
    "# 벌쳐 : 지상 유닛, 기동성이 좋음\n",
    "vulture = AttackUnit(\"벌쳐\", 80, 10, 20)\n",
    "\n",
    "# 배틀크루저: 공중 유닛중 최고, 체력도 굉장히 좋음, 공격력도 좋음\n",
    "battlecruiser = FlyableAttackUnit(\"배틀크루져\", 500, 25, 3)\n",
    "battlecruiser.move(\"9시\")\n",
    "\n",
    "vulture.move(\"11시\")\n",
    "# battlecruiser.fly(battlecruiser.name, \"9시\")\n",
    "battlecruiser.move(\"9시\")\n"
   ]
  },
  {
   "cell_type": "markdown",
   "metadata": {},
   "source": []
  },
  {
   "attachments": {},
   "cell_type": "markdown",
   "metadata": {},
   "source": [
    "# pass\n",
    "\n",
    "# 아무것도 안 하고 일단 넘어감. \n",
    "# 완성 된 것 처럼 인지하고,"
   ]
  },
  {
   "cell_type": "code",
   "execution_count": 23,
   "metadata": {},
   "outputs": [
    {
     "name": "stdout",
     "output_type": "stream",
     "text": [
      "[알림] 새로운 게임을 시작합니다.\n"
     ]
    }
   ],
   "source": [
    "# 일반 유닛 <- 부모 클래스\n",
    "class Unit: # unit은 class 이름\n",
    "    def __init__(self, name, hp, speed):\n",
    "        self.name = name #.name 가 멤버 변수\n",
    "        self.hp = hp #.hp 가 멤버 변수\n",
    "        self.speed = speed\n",
    "        \n",
    "    def move(self, location):\n",
    "        print(\"[지상 유닛 이동]\")\n",
    "        print(\"{0} : {1} 방향으로 이동합니다. [속도 {2}]\".format(self.name, location, self.speed)) # 어떤 유닛이 몇 시 방향으로 이동\n",
    "\n",
    "\n",
    "# 공격 유닛 <--- 받는 상속, 자식 상속\n",
    "class AttackUnit(Unit): # 상속 받고 싶은 클래스 namedmf ()안에 적는다.!!!\n",
    "    def __init__(self, name, hp, speed, damage):\n",
    "        Unit.__init__(self, name, hp, speed) #생성자 호출!\n",
    "        self.damage = damage # 추가로 공격력 정의 할 수 있음.\n",
    "\n",
    "    def attack(self, location):\n",
    "        print(\"{0} : {1} 방향으로 적군으로 공격 합니다. [공격력 {2}]\"\\\n",
    "              .format(self.name, location, self.damage))\n",
    "        \n",
    "    def damaged(self, damage):\n",
    "        print(\"{0} : {1} 데미지를 입었습니다.\".format(self.name, damage))\n",
    "        self.hp -= damage\n",
    "        print(\"{0} : 현재 체력은 {1} 입니다.\".format(self.name, self.hp))\n",
    "        if self.hp <= 0:\n",
    "            print(\"{0} : 파괴되었습니다.\".format(self.name))\n",
    "\n",
    "\n",
    "class Flyable:\n",
    "    def __init__(self, flying_speed):\n",
    "        self.flying_speed = flying_speed\n",
    "\n",
    "    def fly(self, name, location):\n",
    "        print(\"{0} : {1} 방향으로 날아갑니다. [속도 {2}]\".format(name, location, self.flying_speed))\n",
    "        \n",
    "# 공중 공격 유닛 클래스\n",
    "class FlyableAttackUnit(AttackUnit, Flyable):\n",
    "    def __int__(self, name, hp, damage, flying_speed):\n",
    "        AttackUnit.__init__(self, name, hp, 0, damage) # 지상 speed는 0\n",
    "        Flyable.__init__(self, flying_speed)\n",
    "\n",
    "    def move(self, location):\n",
    "        print(\"[공중 유닛 이동]\")\n",
    "        self.fly(self.name, location)\n",
    "\n",
    "\n",
    "# 건물\n",
    "\n",
    "class BuildingUnit(Unit):\n",
    "    def __init__(self, name, hp, location):\n",
    "        pass # 아무것도 안하고 그냥 넘어감. 일단 완성 된 것처럼 보임.\n",
    "\n",
    "\n",
    "# 서플라이 디풋: 건물, 1개 건물 = 8 유닛 생성 가능.\n",
    "supply_depot = BuildingUnit(\"서플라이 디풋\", 500, \"7시\")\n",
    "\n",
    "\n",
    "def game_start():\n",
    "    print(\"[알림] 새로운 게임을 시작합니다.\")\n",
    "\n",
    "def game_over():\n",
    "    pass\n",
    "\n",
    "game_start()\n",
    "game_over()"
   ]
  },
  {
   "attachments": {},
   "cell_type": "markdown",
   "metadata": {},
   "source": [
    "# super"
   ]
  },
  {
   "cell_type": "code",
   "execution_count": 24,
   "metadata": {},
   "outputs": [],
   "source": [
    "\n",
    "# 일반 유닛 <- 부모 클래스 \n",
    "class Unit: # unit은 class 이름\n",
    "    def __init__(self, name, hp, speed):\n",
    "        self.name = name #.name 가 멤버 변수\n",
    "        self.hp = hp #.hp 가 멤버 변수\n",
    "        self.speed = speed\n",
    "        \n",
    "    def move(self, location):\n",
    "        print(\"[지상 유닛 이동]\")\n",
    "        print(\"{0} : {1} 방향으로 이동합니다. [속도 {2}]\".format(self.name, location, self.speed)) # 어떤 유닛이 몇 시 방향으로 이동\n",
    "\n",
    "\n",
    "# 공격 유닛 <--- 받는 상속, 자식 상속\n",
    "class AttackUnit(Unit): # 상속 받고 싶은 클래스 namedmf ()안에 적는다.!!!\n",
    "    def __init__(self, name, hp, speed, damege):\n",
    "        Unit.__init__(self, name, hp, speed) #생성자 호출!\n",
    "        self.damage = damage # 추가로 공격력 정의 할 수 있음.\n",
    "\n",
    "    def attack(self, location):\n",
    "        print(\"{0} : {1} 방향으로 적군으로 공격 합니다. [공격력 {2}]\"\\\n",
    "              .format(self.name, location, self.damage))\n",
    "        \n",
    "    def damaged(self, damage):\n",
    "        print(\"{0} : {1} 데미지를 입었습니다.\".format(self.name, damage))\n",
    "        self.hp -= damage\n",
    "        print(\"{0} : 현재 체력은 {1} 입니다.\".format(self.name, self.hp))\n",
    "        if self.hp <= 0:\n",
    "            print(\"{0} : 파괴되었습니다.\".format(self.name))\n",
    "\n",
    "\n",
    "class Flyable:\n",
    "    def __init__(self, flying_speed):\n",
    "        self.flying_speed = flying_speed\n",
    "\n",
    "    def fly(self, name, location):\n",
    "        print(\"{0} : {1} 방향으로 날아갑니다. [속도 {2}]\".format(name, location, self.flying_speed))\n",
    "        \n",
    "# 공중 공격 유닛 클래스\n",
    "class FlyableAttackUnit(AttackUnit, Flyable):\n",
    "    def __init__(self, name, hp, damage, flying_speed):\n",
    "        AttackUnit.__init__(self, name, hp, 0, damage) # 지상 speed는 0\n",
    "        Flyable.__init__(self, flying_speed)\n",
    "\n",
    "    def move(self, location):\n",
    "        print(\"[공중 유닛 이동]\")\n",
    "        self.fly(self.name, location)\n",
    "\n",
    "\n",
    "# 건물\n",
    "\n",
    "class BuildingUnit(Unit):\n",
    "    def __init__(self, name, hp, location):\n",
    "        #Unit.__init__(self, name, hp, 0)\n",
    "        super().__init__(name, hp, 0) # super 사용 시, () 붙이고, self제외 한다.\n",
    "        self.location = location\n",
    "\n"
   ]
  },
  {
   "cell_type": "code",
   "execution_count": null,
   "metadata": {},
   "outputs": [],
   "source": []
  },
  {
   "attachments": {},
   "cell_type": "markdown",
   "metadata": {},
   "source": [
    "# Quiz) 주어진 코드를 활용하여 부동산 프로그램을 작성하시오.\n",
    "\n",
    "(출력 예제)\n",
    "총 3대의 매물이 있습니다.\n",
    "강남 아파트 매매 10억 2010년 # 준공년도\n",
    "마포 오피스텔 전세 5억 2007년\n",
    "송파 빌라 월세 500/50 2000년\n"
   ]
  },
  {
   "cell_type": "code",
   "execution_count": null,
   "metadata": {},
   "outputs": [],
   "source": [
    "#[코드]\n",
    "\n",
    "class House:\n",
    "    # 매물 초기화\n",
    "    def __init__(self, location, house_type, deal_type, price, completion_year):\n",
    "        pass\n",
    "\n",
    "    # 매물 정보 표시\n",
    "    def show_detail(self):\n",
    "        pass"
   ]
  },
  {
   "cell_type": "code",
   "execution_count": null,
   "metadata": {},
   "outputs": [],
   "source": [
    "# 총 3대의 매물이 있습니다.\n",
    "# 강남 아파트 매매 10억 2010년 # 준공년도\n",
    "# 마포 오피스텔 전세 5억 2007년\n",
    "# 송파 빌라 월세 500/50 2000년\n",
    "\n",
    "\n",
    "class House: # unit은 class 이름\n",
    "    def __init__(self, location, house_type, price, completion_year):\n",
    "        self.location = location #.name 가 멤버 변수\n",
    "        self.house_type = house_type #.hp 가 멤버 변수\n",
    "        self.price = price\n",
    "        self.completion_year = completion_year\n",
    "\n",
    "\n",
    "    def show_detail(self):\n",
    "        \n",
    "        print(\"{0} : {1} 방향으로 이동합니다. [속도 {2}]\".format(self.name, location, self.speed)) # 어떤 유닛이 몇 시 방향으로 이동\n",
    "\n",
    "    def damaged(self, damage):\n",
    "        print(\"{0} : {1} 데미지를 입었습니다.\".format(self.name, damage))\n",
    "        self.hp -= damage\n",
    "        print(\"{0} : 현재 체력은 {1} 입니다.\".format(self.name, self.hp))\n",
    "        if self.hp <= 0:\n",
    "            print(\"{0} : 파괴되었습니다.\".format(self.name))"
   ]
  },
  {
   "cell_type": "code",
   "execution_count": 7,
   "metadata": {},
   "outputs": [
    {
     "name": "stdout",
     "output_type": "stream",
     "text": [
      "총 3대의 매물이 있습니다.\n",
      "강남 아파트 매매 10억 2010년\n",
      "마포 오피스텔 전세 5억 2007년\n",
      "송파 빌라 월세 500/50 2000년\n"
     ]
    }
   ],
   "source": [
    "# 총 3대의 매물이 있습니다.\n",
    "# 강남 아파트 매매 10억 2010년 # 준공년도\n",
    "# 마포 오피스텔 전세 5억 2007년\n",
    "# 송파 빌라 월세 500/50 2000년\n",
    "\n",
    "# [코드]\n",
    "class House: # unit은 class 이름\n",
    "    def __init__(self, location, house_type, deal_type, price, completion_year):\n",
    "        self.location = location #.name 가 멤버 변수\n",
    "        self.house_type = house_type #.hp 가 멤버 변수\n",
    "        self.deal_type = deal_type\n",
    "        self.price = price\n",
    "        self.completion_year = completion_year\n",
    "\n",
    "# 매물 정보 표시\n",
    "    def show_detail(self):\n",
    "        print(self.location, self.house_type, self.deal_type\\\n",
    "              , self.price, self.completion_year)\n",
    "\n",
    "\n",
    "house = []\n",
    "house1 = House(\"강남\", \"아파트\", \"매매\", \"10억\", \"2010년\")\n",
    "house2 = House(\"마포\", \"오피스텔\", \"전세\", \"5억\", \"2007년\")\n",
    "house3 = House(\"송파\", \"빌라\", \"월세\", \"500/50\", \"2000년\")\n",
    "\n",
    "house.append(house1)\n",
    "house.append(house2)\n",
    "house.append(house3)\n",
    "\n",
    "print(\"총 {0}대의 매물이 있습니다.\".format(len(house)))\n",
    "\n",
    "for home in house:\n",
    "    home.show_detail()\n",
    "\n"
   ]
  },
  {
   "cell_type": "code",
   "execution_count": null,
   "metadata": {},
   "outputs": [],
   "source": []
  }
 ],
 "metadata": {
  "kernelspec": {
   "display_name": "Python 3",
   "language": "python",
   "name": "python3"
  },
  "language_info": {
   "codemirror_mode": {
    "name": "ipython",
    "version": 3
   },
   "file_extension": ".py",
   "mimetype": "text/x-python",
   "name": "python",
   "nbconvert_exporter": "python",
   "pygments_lexer": "ipython3",
   "version": "3.9.5"
  },
  "orig_nbformat": 4
 },
 "nbformat": 4,
 "nbformat_minor": 2
}

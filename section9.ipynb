{
 "cells": [
  {
   "attachments": {},
   "cell_type": "markdown",
   "metadata": {},
   "source": [
    "클래스 9-1\n",
    "- 클래스는 붕어빵 틀 같은 존재.\n",
    "붕어 모양 갖춰져 있고, 틀에 맞춰서 재료 넣고 붕어 빵 만들어짐\n",
    "틀은 한개 인데, 붕어빵은 무한정 만들 수 있다. "
   ]
  },
  {
   "cell_type": "code",
   "execution_count": 14,
   "metadata": {},
   "outputs": [
    {
     "name": "stdout",
     "output_type": "stream",
     "text": [
      "마린 유닛이 생성되었습니다.\n",
      "체력 40, 공격력 5\n",
      "\n"
     ]
    }
   ],
   "source": [
    "# 마린 : 공격 유닛, 군인. 총을 쓸 수 있음\n",
    "\n",
    "name = \"마린\" # 유닛의 이름\n",
    "hp = 40 # 유닛의 체력\n",
    "damage = 5 # 유닛의 공격력\n",
    "\n",
    "print(\"{0} 유닛이 생성되었습니다.\".format(name))\n",
    "print(\"체력 {0}, 공격력 {1}\\n\".format(hp, damage))\n"
   ]
  },
  {
   "cell_type": "code",
   "execution_count": 15,
   "metadata": {},
   "outputs": [
    {
     "name": "stdout",
     "output_type": "stream",
     "text": [
      "탱크 유닛이 생성되었습니다.\n",
      "체력 150, 공격력 35\n",
      "\n"
     ]
    }
   ],
   "source": [
    "# 탱크 : 공격 유닛, 탱크. 포를 쓸 수 있는데, 일반 모드 / 시즈 모드.\n",
    "\n",
    "tank_name = \"탱크\"\n",
    "tank_hp = 150\n",
    "tank_damage = 35\n",
    "\n",
    "print(\"{0} 유닛이 생성되었습니다.\".format(tank_name))\n",
    "print(\"체력 {0}, 공격력 {1}\\n\".format(tank_hp, tank_damage))\n"
   ]
  },
  {
   "cell_type": "code",
   "execution_count": 16,
   "metadata": {},
   "outputs": [
    {
     "name": "stdout",
     "output_type": "stream",
     "text": [
      "마린 : 1시 방향으로 적군을 공격 합니다. [공격력 5]\n",
      "탱크 : 1시 방향으로 적군을 공격 합니다. [공격력 35]\n"
     ]
    }
   ],
   "source": [
    "def attack(name, location, damage):\n",
    "    print(\"{0} : {1} 방향으로 적군을 공격 합니다. [공격력 {2}]\".format(\\\n",
    "        name, location, damage))\n",
    "    \n",
    "attack(name, \"1시\", damage)\n",
    "attack(tank_name, \"1시\", tank_damage)"
   ]
  },
  {
   "cell_type": "code",
   "execution_count": 17,
   "metadata": {},
   "outputs": [
    {
     "name": "stdout",
     "output_type": "stream",
     "text": [
      "탱크 유닛이 생성되었습니다.\n",
      "체력 150, 공격력 35\n",
      "\n",
      "마린 : 1시 방향으로 적군을 공격 합니다. [공격력 5]\n",
      "탱크 : 1시 방향으로 적군을 공격 합니다. [공격력 35]\n"
     ]
    }
   ],
   "source": [
    "# 탱크 : 공격 유닛, 탱크. 포를 쓸 수 있는데, 일반 모드 / 시즈 모드.\n",
    "\n",
    "tank_name = \"탱크\"\n",
    "tank_hp = 150\n",
    "tank_damage = 35\n",
    "\n",
    "print(\"{0} 유닛이 생성되었습니다.\".format(tank_name))\n",
    "print(\"체력 {0}, 공격력 {1}\\n\".format(tank_hp, tank_damage))\n",
    "\n",
    "def attack(name, location, damage):\n",
    "    print(\"{0} : {1} 방향으로 적군을 공격 합니다. [공격력 {2}]\".format(\\\n",
    "        name, location, damage))\n",
    "    \n",
    "attack(name, \"1시\", damage)\n",
    "attack(tank_name, \"1시\", tank_damage)"
   ]
  },
  {
   "cell_type": "code",
   "execution_count": 18,
   "metadata": {},
   "outputs": [
    {
     "name": "stdout",
     "output_type": "stream",
     "text": [
      "탱크 유닛이 생성되었습니다.\n",
      "체력 150, 공격력 35\n",
      "\n",
      "탱크 유닛이 생성되었습니다.\n",
      "체력 150, 공격력 35\n",
      "\n",
      "마린 : 1시 방향으로 적군을 공격 합니다. [공격력 5]\n",
      "탱크 : 1시 방향으로 적군을 공격 합니다. [공격력 35]\n"
     ]
    }
   ],
   "source": [
    "# 탱크 : 공격 유닛, 탱크. 포를 쓸 수 있는데, 일반 모드 / 시즈 모드.\n",
    "\n",
    "tank_name = \"탱크\"\n",
    "tank_hp = 150\n",
    "tank_damage = 35\n",
    "\n",
    "print(\"{0} 유닛이 생성되었습니다.\".format(tank_name))\n",
    "print(\"체력 {0}, 공격력 {1}\\n\".format(tank_hp, tank_damage))\n",
    "\n",
    "tank2_name = \"탱크\"\n",
    "tank2_hp = 150\n",
    "tank2_damage = 35\n",
    "\n",
    "print(\"{0} 유닛이 생성되었습니다.\".format(tank2_name))\n",
    "print(\"체력 {0}, 공격력 {1}\\n\".format(tank2_hp, tank2_damage))\n",
    "\n",
    "\n",
    "def attack(name, location, damage):\n",
    "    print(\"{0} : {1} 방향으로 적군을 공격 합니다. [공격력 {2}]\".format(\\\n",
    "        name, location, damage))\n",
    "    \n",
    "attack(name, \"1시\", damage)\n",
    "attack(tank2_name, \"1시\", tank2_damage)"
   ]
  },
  {
   "cell_type": "code",
   "execution_count": 19,
   "metadata": {},
   "outputs": [],
   "source": [
    "# # 탱크 : 공격 유닛, 탱크. 포를 쓸 수 있는데, 일반 모드 / 시즈 모드.\n",
    "\n",
    "# tank_name = \"탱크\"\n",
    "# tank_hp = 150\n",
    "# tank_damage = 35\n",
    "\n",
    "# print(\"{0} 유닛이 생성되었습니다.\".format(tank_name))\n",
    "# print(\"체력 {0}, 공격력 {1}\\n\".format(tank_hp, tank_damage))\n",
    "\n",
    "# tank2_name = \"탱크\"\n",
    "# tank2_hp = 150\n",
    "# tank2_damage = 35\n",
    "\n",
    "# print(\"{0} 유닛이 생성되었습니다.\".format(tank2_name))\n",
    "# print(\"체력 {0}, 공격력 {1}\\n\".format(tank2_hp, tank2_damage))\n",
    "\n",
    "\n",
    "# def attack(name, location, damage):\n",
    "#     print(\"{0} : {1} 방향으로 적군을 공격 합니다. [공격력 {2}]\".format(\\\n",
    "#         name, location, damage))\n",
    "    \n",
    "# attack(name, \"1시\", damage)\n",
    "# attack(tank2_name, \"1시\", tank2_damage)"
   ]
  },
  {
   "cell_type": "code",
   "execution_count": 20,
   "metadata": {},
   "outputs": [
    {
     "name": "stdout",
     "output_type": "stream",
     "text": [
      "마린 유닛이 생성 되었습니다.\n",
      "체력 40, 공격력 5\n",
      "마린 유닛이 생성 되었습니다.\n",
      "체력 40, 공격력 5\n",
      "탱크 유닛이 생성 되었습니다.\n",
      "체력 150, 공격력 35\n"
     ]
    }
   ],
   "source": [
    "class Unit: # unit은 class 이름\n",
    "    def __init__(self, name, hp, damage):\n",
    "        self.name = name\n",
    "        self.hp = hp\n",
    "        self.damage = damage\n",
    "        print(\"{0} 유닛이 생성 되었습니다.\".format(self.name))\n",
    "        print(\"체력 {0}, 공격력 {1}\".format(self.hp, self.damage))\n",
    "    \n",
    "marine1 = Unit(\"마린\", 40, 5)\n",
    "marine2 = Unit(\"마린\", 40, 5)\n",
    "tank = Unit(\"탱크\", 150, 35)\n",
    "\n",
    "# 똑같은 class를 통해서 서로 다른 유닛을 만들 수 있음"
   ]
  },
  {
   "cell_type": "code",
   "execution_count": null,
   "metadata": {},
   "outputs": [],
   "source": []
  },
  {
   "cell_type": "markdown",
   "metadata": {},
   "source": []
  },
  {
   "attachments": {},
   "cell_type": "markdown",
   "metadata": {},
   "source": [
    "__init__\n",
    "__init__함수는 \n",
    "파이썬에서 쓰이는 생성자 이다.\n",
    "마린, 탱크 같은 객체가 만들어 질 때, 자동으로 호출 됨. \n",
    "(객체: 어떤 클래스로 부터 만들어 지는 것들)\n",
    "이때 마린과 탱크는 유닛 (Unit)클래스의 인스턴스 라고 표현 한다. "
   ]
  },
  {
   "cell_type": "markdown",
   "metadata": {},
   "source": []
  },
  {
   "attachments": {},
   "cell_type": "markdown",
   "metadata": {},
   "source": [
    "멤버 변수"
   ]
  },
  {
   "cell_type": "markdown",
   "metadata": {},
   "source": []
  },
  {
   "cell_type": "code",
   "execution_count": 21,
   "metadata": {},
   "outputs": [],
   "source": [
    "class Unit: # unit은 class 이름\n",
    "    def __init__(self, name, hp, damage):\n",
    "        self.name = name #.name 가 멤버 변수\n",
    "        self.hp = hp #.hp 가 멤버 변수\n",
    "        self.damage = damage #.damage가 멤버 변수\n",
    "        print(\"{0} 유닛이 생성 되었습니다.\".format(self.name))\n",
    "        print(\"체력 {0}, 공격력 {1}\".format(self.hp, self.damage))"
   ]
  },
  {
   "cell_type": "code",
   "execution_count": 22,
   "metadata": {},
   "outputs": [
    {
     "name": "stdout",
     "output_type": "stream",
     "text": [
      "레이스 유닛이 생성 되었습니다.\n",
      "체력 80, 공격력 5\n",
      "유닛 이름 : 레이스, 공격력 : 5\n"
     ]
    }
   ],
   "source": [
    "# 레이스 : 공중 유닛, 비행기. 클로킹 기능 있음(상대방에게 보이지 않음)\n",
    "\n",
    "wraith1 = Unit(\"레이스\", 80, 5)\n",
    "print(\"유닛 이름 : {0}, 공격력 : {1}\".format(wraith1.name, wraith1.damage))\n"
   ]
  },
  {
   "cell_type": "code",
   "execution_count": 23,
   "metadata": {},
   "outputs": [
    {
     "name": "stdout",
     "output_type": "stream",
     "text": [
      "레이스 유닛이 생성 되었습니다.\n",
      "체력 80, 공격력 5\n"
     ]
    },
    {
     "ename": "AttributeError",
     "evalue": "'Unit' object has no attribute 'clocking'",
     "output_type": "error",
     "traceback": [
      "\u001b[1;31m---------------------------------------------------------------------------\u001b[0m",
      "\u001b[1;31mAttributeError\u001b[0m                            Traceback (most recent call last)",
      "\u001b[1;32m<ipython-input-23-8ea3ed7d4e88>\u001b[0m in \u001b[0;36m<module>\u001b[1;34m\u001b[0m\n\u001b[0;32m      4\u001b[0m \u001b[0mwraith2\u001b[0m\u001b[1;33m.\u001b[0m\u001b[0mclocking\u001b[0m \u001b[1;33m=\u001b[0m \u001b[1;32mTrue\u001b[0m\u001b[1;33m\u001b[0m\u001b[1;33m\u001b[0m\u001b[0m\n\u001b[0;32m      5\u001b[0m \u001b[1;33m\u001b[0m\u001b[0m\n\u001b[1;32m----> 6\u001b[1;33m \u001b[1;32mif\u001b[0m \u001b[0mwraith1\u001b[0m\u001b[1;33m.\u001b[0m\u001b[0mclocking\u001b[0m \u001b[1;33m==\u001b[0m \u001b[1;32mTrue\u001b[0m\u001b[1;33m:\u001b[0m \u001b[1;31m# wraith1으로 변경 시, 기존에 있던 객체는 변경이 안됨. 새로운 것만 가능 함\u001b[0m\u001b[1;33m\u001b[0m\u001b[1;33m\u001b[0m\u001b[0m\n\u001b[0m\u001b[0;32m      7\u001b[0m     \u001b[0mprint\u001b[0m\u001b[1;33m(\u001b[0m\u001b[1;34m\"{0} 는 현재 클로킹 상태입니다.\"\u001b[0m\u001b[1;33m.\u001b[0m\u001b[0mformat\u001b[0m\u001b[1;33m(\u001b[0m\u001b[0mwraith2\u001b[0m\u001b[1;33m.\u001b[0m\u001b[0mname\u001b[0m\u001b[1;33m)\u001b[0m\u001b[1;33m)\u001b[0m\u001b[1;33m\u001b[0m\u001b[1;33m\u001b[0m\u001b[0m\n",
      "\u001b[1;31mAttributeError\u001b[0m: 'Unit' object has no attribute 'clocking'"
     ]
    }
   ],
   "source": [
    "# 마인드 컨트롤 : 상대방 유닛을 내 것으로 만드는 것 (빼앗음)\n",
    "\n",
    "wraith2 = Unit(\"레이스\", 80, 5)\n",
    "wraith2.clocking = True\n",
    "\n",
    "if wraith1.clocking == True: # wraith1으로 변경 시, 기존에 있던 객체는 변경이 안됨. 새로운 것만 가능 함\n",
    "    print(\"{0} 는 현재 클로킹 상태입니다.\".format(wraith2.name))"
   ]
  },
  {
   "cell_type": "code",
   "execution_count": 24,
   "metadata": {},
   "outputs": [
    {
     "name": "stdout",
     "output_type": "stream",
     "text": [
      "레이스 유닛이 생성 되었습니다.\n",
      "체력 80, 공격력 5\n",
      "레이스 는 현재 클로킹 상태입니다.\n"
     ]
    }
   ],
   "source": [
    "# 마인드 컨트롤 : 상대방 유닛을 내 것으로 만드는 것 (빼앗음)\n",
    "\n",
    "wraith2 = Unit(\"레이스\", 80, 5)\n",
    "wraith2.clocking = True\n",
    "\n",
    "if wraith2.clocking == True:\n",
    "    print(\"{0} 는 현재 클로킹 상태입니다.\".format(wraith2.name))"
   ]
  },
  {
   "cell_type": "code",
   "execution_count": null,
   "metadata": {},
   "outputs": [],
   "source": []
  },
  {
   "attachments": {},
   "cell_type": "markdown",
   "metadata": {},
   "source": [
    "메소드"
   ]
  },
  {
   "cell_type": "markdown",
   "metadata": {},
   "source": []
  },
  {
   "cell_type": "code",
   "execution_count": 25,
   "metadata": {},
   "outputs": [
    {
     "name": "stdout",
     "output_type": "stream",
     "text": [
      "파이어뱃 : 5시 방향으로 적군으로 공격 합니다. [공격력 5]\n",
      "파이어뱃 : 25 데미지를 입었습니다.\n",
      "파이어뱃 : 현재 체력은 25 입니다.\n",
      "파이어뱃 : 25 데미지를 입었습니다.\n",
      "파이어뱃 : 현재 체력은 0 입니다.\n",
      "파이어뱃 : 파괴되었습니다.\n"
     ]
    }
   ],
   "source": [
    "# 일반 유닛\n",
    "class Unit: # unit은 class 이름\n",
    "    def __init__(self, name, hp, damage):\n",
    "        self.name = name #.name 가 멤버 변수\n",
    "        self.hp = hp #.hp 가 멤버 변수\n",
    "        self.damage = damage #.damage가 멤버 변수\n",
    "        print(\"{0} 유닛이 생성 되었습니다.\".format(self.name))\n",
    "        print(\"체력 {0}, 공격력 {1}\".format(self.hp, self.damage))\n",
    "\n",
    "# 공격 유닛\n",
    "class AttackUnit:\n",
    "    def __init__(self, name, hp, damege):\n",
    "        self.name = name\n",
    "        self.hp = hp\n",
    "        self.damage = damage\n",
    "\n",
    "    def attack(self, location):\n",
    "        print(\"{0} : {1} 방향으로 적군으로 공격 합니다. [공격력 {2}]\"\\\n",
    "              .format(self.name, location, self.damage))\n",
    "        \n",
    "    def damaged(self, damage):\n",
    "        print(\"{0} : {1} 데미지를 입었습니다.\".format(self.name, damage))\n",
    "        self.hp -= damage\n",
    "        print(\"{0} : 현재 체력은 {1} 입니다.\".format(self.name, self.hp))\n",
    "        if self.hp <= 0:\n",
    "            print(\"{0} : 파괴되었습니다.\".format(self.name))\n",
    "            \n",
    "# 메딕 : 의무병\n",
    "\n",
    "# 파이어뱃: 공격 유닛, 화염방사기.\n",
    "firebat1 = AttackUnit(\"파이어뱃\", 50, 16)\n",
    "firebat1.attack(\"5시\")\n",
    "\n",
    "# 공격 2번 받는다고 가정\n",
    "firebat1.damaged(25)\n",
    "firebat1.damaged(25)"
   ]
  },
  {
   "cell_type": "code",
   "execution_count": null,
   "metadata": {},
   "outputs": [],
   "source": []
  },
  {
   "cell_type": "markdown",
   "metadata": {},
   "source": []
  },
  {
   "attachments": {},
   "cell_type": "markdown",
   "metadata": {},
   "source": [
    "상속 : 물려 받기\n"
   ]
  },
  {
   "cell_type": "code",
   "execution_count": 26,
   "metadata": {},
   "outputs": [
    {
     "name": "stdout",
     "output_type": "stream",
     "text": [
      "파이어뱃 : 5시 방향으로 적군으로 공격 합니다. [공격력 5]\n",
      "파이어뱃 : 25 데미지를 입었습니다.\n",
      "파이어뱃 : 현재 체력은 25 입니다.\n",
      "파이어뱃 : 25 데미지를 입었습니다.\n",
      "파이어뱃 : 현재 체력은 0 입니다.\n",
      "파이어뱃 : 파괴되었습니다.\n"
     ]
    }
   ],
   "source": [
    "# 메딕 만들기\n",
    "# 메딕 : 의무병\n",
    "\n",
    "# 일반 유닛 <- 부모 클래스\n",
    "class Unit: # unit은 class 이름\n",
    "    def __init__(self, name, hp):\n",
    "        self.name = name #.name 가 멤버 변수\n",
    "        self.hp = hp #.hp 가 멤버 변수\n",
    "    \n",
    "\n",
    "# 공격 유닛 <- 받는 상속, 자식 상속\n",
    "class AttackUnit(Unit):\n",
    "    def __init__(self, name, hp, damege):\n",
    "        Unit.__init__(self, name, hp)\n",
    "        self.damage = damage\n",
    "\n",
    "    def attack(self, location):\n",
    "        print(\"{0} : {1} 방향으로 적군으로 공격 합니다. [공격력 {2}]\"\\\n",
    "              .format(self.name, location, self.damage))\n",
    "        \n",
    "    def damaged(self, damage):\n",
    "        print(\"{0} : {1} 데미지를 입었습니다.\".format(self.name, damage))\n",
    "        self.hp -= damage\n",
    "        print(\"{0} : 현재 체력은 {1} 입니다.\".format(self.name, self.hp))\n",
    "        if self.hp <= 0:\n",
    "            print(\"{0} : 파괴되었습니다.\".format(self.name))\n",
    "\n",
    "# 메딕 : 의무병\n",
    "\n",
    "# 파이어뱃: 공격 유닛, 화염방사기.\n",
    "firebat1 = AttackUnit(\"파이어뱃\", 50, 16)\n",
    "firebat1.attack(\"5시\")\n",
    "\n",
    "# 공격 2번 받는다고 가정\n",
    "firebat1.damaged(25)\n",
    "firebat1.damaged(25)"
   ]
  },
  {
   "cell_type": "code",
   "execution_count": null,
   "metadata": {},
   "outputs": [],
   "source": []
  },
  {
   "cell_type": "markdown",
   "metadata": {},
   "source": []
  },
  {
   "attachments": {},
   "cell_type": "markdown",
   "metadata": {},
   "source": [
    "다중상속\n",
    "- 부모가 둘 이상, 여러 곳에서 상속을 받는다."
   ]
  },
  {
   "cell_type": "code",
   "execution_count": 27,
   "metadata": {},
   "outputs": [
    {
     "ename": "TypeError",
     "evalue": "__init__() takes 4 positional arguments but 5 were given",
     "output_type": "error",
     "traceback": [
      "\u001b[1;31m---------------------------------------------------------------------------\u001b[0m",
      "\u001b[1;31mTypeError\u001b[0m                                 Traceback (most recent call last)",
      "\u001b[1;32m<ipython-input-27-f7f04be6de4b>\u001b[0m in \u001b[0;36m<module>\u001b[1;34m\u001b[0m\n\u001b[0;32m     18\u001b[0m \u001b[1;33m\u001b[0m\u001b[0m\n\u001b[0;32m     19\u001b[0m \u001b[1;31m# 발키리 : 공중 공격 유닛, 한번에 14발 미사일 발사.\u001b[0m\u001b[1;33m\u001b[0m\u001b[1;33m\u001b[0m\u001b[1;33m\u001b[0m\u001b[0m\n\u001b[1;32m---> 20\u001b[1;33m \u001b[0mvalkyrie\u001b[0m \u001b[1;33m=\u001b[0m \u001b[0mFlyableAttackUnit\u001b[0m\u001b[1;33m(\u001b[0m\u001b[1;34m\"발키리\"\u001b[0m\u001b[1;33m,\u001b[0m \u001b[1;36m200\u001b[0m\u001b[1;33m,\u001b[0m \u001b[1;36m6\u001b[0m\u001b[1;33m,\u001b[0m \u001b[1;36m5\u001b[0m\u001b[1;33m)\u001b[0m\u001b[1;33m\u001b[0m\u001b[1;33m\u001b[0m\u001b[0m\n\u001b[0m\u001b[0;32m     21\u001b[0m \u001b[0mvalkyrie\u001b[0m\u001b[1;33m.\u001b[0m\u001b[0mfly\u001b[0m\u001b[1;33m(\u001b[0m\u001b[0mvalkyrie\u001b[0m\u001b[1;33m.\u001b[0m\u001b[0mname\u001b[0m\u001b[1;33m,\u001b[0m \u001b[1;34m\"3시\"\u001b[0m\u001b[1;33m)\u001b[0m\u001b[1;33m\u001b[0m\u001b[1;33m\u001b[0m\u001b[0m\n",
      "\u001b[1;31mTypeError\u001b[0m: __init__() takes 4 positional arguments but 5 were given"
     ]
    }
   ],
   "source": [
    "# 드랍쉽 : 공중 유닛, 수송기. 마린 / 파이어뱃 / 탱크 등을 수송. 공격 X\n",
    "\n",
    "# 날 수 있는 기능을 가진 클래스\n",
    "\n",
    "class Flyable:\n",
    "    def __init__(self, flying_speed):\n",
    "        self.flying_speed = flying_speed\n",
    "\n",
    "    def fly(self, name, location):\n",
    "        print(\"{0} : {1} 방향으로 날아갑니다. [속도 {2}]\"\\\n",
    "              .format(name, location, self.flying_speed))\n",
    "        \n",
    "# 공중 공격 유닛 클래스\n",
    "class FlyableAttackUnit(AttackUnit, Flyable):\n",
    "    def __int__(self, name, hp, damage, flying_speed):\n",
    "        AttackUnit.__init__(self, name, hp, damage)\n",
    "        Flyable.__init__(self, flying_speed)\n",
    "\n",
    "# 발키리 : 공중 공격 유닛, 한번에 14발 미사일 발사.\n",
    "valkyrie = FlyableAttackUnit(\"발키리\", 200, 6, 5)\n",
    "valkyrie.fly(valkyrie.name, \"3시\")"
   ]
  },
  {
   "cell_type": "markdown",
   "metadata": {},
   "source": []
  },
  {
   "cell_type": "code",
   "execution_count": null,
   "metadata": {},
   "outputs": [],
   "source": []
  },
  {
   "cell_type": "markdown",
   "metadata": {},
   "source": []
  },
  {
   "attachments": {},
   "cell_type": "markdown",
   "metadata": {},
   "source": [
    "9-7 메소드 오버라이딩 "
   ]
  },
  {
   "cell_type": "code",
   "execution_count": 28,
   "metadata": {},
   "outputs": [
    {
     "ename": "TypeError",
     "evalue": "__init__() missing 1 required positional argument: 'damege'",
     "output_type": "error",
     "traceback": [
      "\u001b[1;31m---------------------------------------------------------------------------\u001b[0m",
      "\u001b[1;31mTypeError\u001b[0m                                 Traceback (most recent call last)",
      "\u001b[1;32m<ipython-input-28-34d8ba22383f>\u001b[0m in \u001b[0;36m<module>\u001b[1;34m\u001b[0m\n\u001b[0;32m     33\u001b[0m \u001b[1;33m\u001b[0m\u001b[0m\n\u001b[0;32m     34\u001b[0m \u001b[1;31m# 파이어뱃: 공격 유닛, 화염방사기.\u001b[0m\u001b[1;33m\u001b[0m\u001b[1;33m\u001b[0m\u001b[1;33m\u001b[0m\u001b[0m\n\u001b[1;32m---> 35\u001b[1;33m \u001b[0mfirebat1\u001b[0m \u001b[1;33m=\u001b[0m \u001b[0mAttackUnit\u001b[0m\u001b[1;33m(\u001b[0m\u001b[1;34m\"파이어뱃\"\u001b[0m\u001b[1;33m,\u001b[0m \u001b[1;36m50\u001b[0m\u001b[1;33m,\u001b[0m \u001b[1;36m16\u001b[0m\u001b[1;33m)\u001b[0m\u001b[1;33m\u001b[0m\u001b[1;33m\u001b[0m\u001b[0m\n\u001b[0m\u001b[0;32m     36\u001b[0m \u001b[0mfirebat1\u001b[0m\u001b[1;33m.\u001b[0m\u001b[0mattack\u001b[0m\u001b[1;33m(\u001b[0m\u001b[1;34m\"5시\"\u001b[0m\u001b[1;33m)\u001b[0m\u001b[1;33m\u001b[0m\u001b[1;33m\u001b[0m\u001b[0m\n\u001b[0;32m     37\u001b[0m \u001b[1;33m\u001b[0m\u001b[0m\n",
      "\u001b[1;31mTypeError\u001b[0m: __init__() missing 1 required positional argument: 'damege'"
     ]
    }
   ],
   "source": [
    "# 메딕 만들기\n",
    "# 메딕 : 의무병\n",
    "\n",
    "# 일반 유닛 <- 부모 클래스\n",
    "class Unit: # unit은 class 이름\n",
    "    def __init__(self, name, hp, speed):\n",
    "        self.name = name #.name 가 멤버 변수\n",
    "        self.hp = hp #.hp 가 멤버 변수\n",
    "        self.speed = speed\n",
    "    def move(self, location):\n",
    "        print(\"[지상 유닛 이동]\")\n",
    "        print(\"{0} : {1} 방향으로 이동합니다. [속도 {2}]\".format(self.name, location, self.speed)) # 어떤 유닛이 몇 시 방향으로 이동\n",
    "\n",
    "\n",
    "# 공격 유닛 <- 받는 상속, 자식 상속\n",
    "class AttackUnit(Unit):\n",
    "    def __init__(self, name, hp, speed, damege):\n",
    "        Unit.__init__(self, name, hp, speed)\n",
    "        self.damage = damage\n",
    "\n",
    "    def attack(self, location):\n",
    "        print(\"{0} : {1} 방향으로 적군으로 공격 합니다. [공격력 {2}]\"\\\n",
    "              .format(self.name, location, self.damage))\n",
    "        \n",
    "    def damaged(self, damage):\n",
    "        print(\"{0} : {1} 데미지를 입었습니다.\".format(self.name, damage))\n",
    "        self.hp -= damage\n",
    "        print(\"{0} : 현재 체력은 {1} 입니다.\".format(self.name, self.hp))\n",
    "        if self.hp <= 0:\n",
    "            print(\"{0} : 파괴되었습니다.\".format(self.name))\n",
    "\n",
    "# 메딕 : 의무병\n",
    "\n",
    "# 파이어뱃: 공격 유닛, 화염방사기.\n",
    "firebat1 = AttackUnit(\"파이어뱃\", 50, 16)\n",
    "firebat1.attack(\"5시\")\n",
    "\n",
    "# 공격 2번 받는다고 가정\n",
    "firebat1.damaged(25)\n",
    "firebat1.damaged(25)"
   ]
  },
  {
   "cell_type": "code",
   "execution_count": 29,
   "metadata": {},
   "outputs": [
    {
     "ename": "NameError",
     "evalue": "name 'battlecruiser' is not defined",
     "output_type": "error",
     "traceback": [
      "\u001b[1;31m---------------------------------------------------------------------------\u001b[0m",
      "\u001b[1;31mNameError\u001b[0m                                 Traceback (most recent call last)",
      "\u001b[1;32m<ipython-input-29-445d4e15e2ff>\u001b[0m in \u001b[0;36m<module>\u001b[1;34m\u001b[0m\n\u001b[0;32m     26\u001b[0m \u001b[1;31m# 배틀크루저: 공중 유닛, 체력도 굉장히 좋음, 공격력\u001b[0m\u001b[1;33m\u001b[0m\u001b[1;33m\u001b[0m\u001b[1;33m\u001b[0m\u001b[0m\n\u001b[0;32m     27\u001b[0m \u001b[1;31m# battlecruiser = FlyableAttackUnit(\"배틀크루져\", 500, 25, 3)\u001b[0m\u001b[1;33m\u001b[0m\u001b[1;33m\u001b[0m\u001b[1;33m\u001b[0m\u001b[0m\n\u001b[1;32m---> 28\u001b[1;33m \u001b[0mbattlecruiser\u001b[0m\u001b[1;33m.\u001b[0m\u001b[0mmove\u001b[0m\u001b[1;33m(\u001b[0m\u001b[1;34m\"9시\"\u001b[0m\u001b[1;33m)\u001b[0m\u001b[1;33m\u001b[0m\u001b[1;33m\u001b[0m\u001b[0m\n\u001b[0m\u001b[0;32m     29\u001b[0m \u001b[1;33m\u001b[0m\u001b[0m\n\u001b[0;32m     30\u001b[0m \u001b[1;33m\u001b[0m\u001b[0m\n",
      "\u001b[1;31mNameError\u001b[0m: name 'battlecruiser' is not defined"
     ]
    }
   ],
   "source": [
    "# 일반 유닛 <- 부모 클래스\n",
    "class Unit: # unit은 class 이름\n",
    "    def __init__(self, name, hp, speed):\n",
    "        self.name = name #.name 가 멤버 변수\n",
    "        self.hp = hp #.hp 가 멤버 변수\n",
    "        self.speed = speed\n",
    "    def move(self, location):\n",
    "        print(\"[지상 유닛 이동]\")\n",
    "        print(\"{0} : {1} 방향으로 이동합니다. [속도 {2}]\".format(self.name, location, self.speed)) # 어떤 유닛이 몇 시 방향으로 이동\n",
    "\n",
    "\n",
    "# 공중 공격 유닛 클래스\n",
    "class FlyableAttackUnit(AttackUnit, Flyable):\n",
    "    def __int__(self, name, hp, damage, flying_speed):\n",
    "        AttackUnit.__init__(self, name, hp, 0, damage) # 지상 speed 0\n",
    "        Flyable.__init__(self, flying_speed)\n",
    "\n",
    "\n",
    "    def move(self, location):\n",
    "        print(\"[공중 유닛 이동]\")\n",
    "        self.fly(self.name, location)\n",
    "\n",
    "# 벌쳐 : 지상 유닛, 기동성이 좋음\n",
    "vulture = AttackUnit(\"벌쳐\", 80, 10, 20)\n",
    "\n",
    "# 배틀크루저: 공중 유닛, 체력도 굉장히 좋음, 공격력\n",
    "# battlecruiser = FlyableAttackUnit(\"배틀크루져\", 500, 25, 3)\n",
    "battlecruiser.move(\"9시\")\n",
    "\n",
    "\n",
    "vulture.move(\"11시\")\n",
    "battlecruiesr.fly(battlecruiser.name, \"9시\")\n"
   ]
  },
  {
   "cell_type": "markdown",
   "metadata": {},
   "source": []
  },
  {
   "cell_type": "code",
   "execution_count": null,
   "metadata": {},
   "outputs": [],
   "source": []
  },
  {
   "cell_type": "code",
   "execution_count": null,
   "metadata": {},
   "outputs": [],
   "source": []
  },
  {
   "cell_type": "code",
   "execution_count": null,
   "metadata": {},
   "outputs": [],
   "source": []
  },
  {
   "cell_type": "code",
   "execution_count": null,
   "metadata": {},
   "outputs": [],
   "source": []
  },
  {
   "cell_type": "code",
   "execution_count": null,
   "metadata": {},
   "outputs": [],
   "source": []
  },
  {
   "cell_type": "code",
   "execution_count": null,
   "metadata": {},
   "outputs": [],
   "source": []
  }
 ],
 "metadata": {
  "kernelspec": {
   "display_name": "Python 3",
   "language": "python",
   "name": "python3"
  },
  "language_info": {
   "codemirror_mode": {
    "name": "ipython",
    "version": 3
   },
   "file_extension": ".py",
   "mimetype": "text/x-python",
   "name": "python",
   "nbconvert_exporter": "python",
   "pygments_lexer": "ipython3",
   "version": "3.9.5"
  },
  "orig_nbformat": 4
 },
 "nbformat": 4,
 "nbformat_minor": 2
}
